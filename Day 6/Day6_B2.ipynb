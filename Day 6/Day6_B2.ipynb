{
  "nbformat": 4,
  "nbformat_minor": 0,
  "metadata": {
    "colab": {
      "name": "Day6_B2.ipynb",
      "version": "0.3.2",
      "provenance": []
    },
    "language_info": {
      "codemirror_mode": {
        "name": "ipython",
        "version": 3
      },
      "file_extension": ".py",
      "mimetype": "text/x-python",
      "name": "python",
      "nbconvert_exporter": "python",
      "pygments_lexer": "ipython3",
      "version": "3.7.3"
    },
    "kernelspec": {
      "display_name": "Python 3",
      "language": "python",
      "name": "python3"
    }
  },
  "cells": [
    {
      "cell_type": "code",
      "metadata": {
        "id": "e05hUOQPJVM8",
        "colab_type": "code",
        "colab": {
          "base_uri": "https://localhost:8080/",
          "height": 53
        },
        "outputId": "9c02aaf2-bd61-4e15-d5b3-6c1d7539902f"
      },
      "source": [
        "# Database operation\n",
        "# 1. Create a database and create a table\n",
        "import sqlite3\n",
        "connection = sqlite3.connect('test11.db')\n",
        "print(\"Opened database successfully....\")\n",
        "connection.execute('''CREATE TABLE student11\n",
        "                   (stud_roll INTEGER PRIMARY KEY NOT NULL,\n",
        "                   stud_name TEXT);''')\n",
        "print(\"Table created successfully....\")\n",
        "#connection.close()"
      ],
      "execution_count": 1,
      "outputs": [
        {
          "output_type": "stream",
          "text": [
            "Opened database successfully....\n",
            "Table created successfully....\n"
          ],
          "name": "stdout"
        }
      ]
    },
    {
      "cell_type": "code",
      "metadata": {
        "id": "Bh7gJrhdJVNA",
        "colab_type": "code",
        "colab": {
          "base_uri": "https://localhost:8080/",
          "height": 53
        },
        "outputId": "a8011951-d319-4894-c107-450ea6872593"
      },
      "source": [
        "# 2. Insert data into the table\n",
        "\n",
        "connection = sqlite3.connect('test11.db')\n",
        "print(\"Opened database successfully....\")\n",
        "connection.execute(\"INSERT INTO student11(stud_roll,stud_name)\\\n",
        "VALUES(1,'Abcd')\");\n",
        "connection.execute(\"INSERT INTO student11(stud_roll,stud_name)\\\n",
        "VALUES(2,'Efgh')\");\n",
        "connection.commit()\n",
        "print(\"Records created successfully....\")\n",
        "#connection.close()"
      ],
      "execution_count": 2,
      "outputs": [
        {
          "output_type": "stream",
          "text": [
            "Opened database successfully....\n",
            "Records created successfully....\n"
          ],
          "name": "stdout"
        }
      ]
    },
    {
      "cell_type": "code",
      "metadata": {
        "id": "y6gr1MrsJVNC",
        "colab_type": "code",
        "colab": {
          "base_uri": "https://localhost:8080/",
          "height": 141
        },
        "outputId": "0e335c34-e764-4428-ba73-8447603dd122"
      },
      "source": [
        "# 3. Display the data from the table\n",
        "   \n",
        "cursor = connection.execute(\"SELECT stud_roll,stud_name from student11\")\n",
        "for row in cursor:\n",
        "    print(\"Student Roll = \",row[0])\n",
        "    print(\"Student Name = \",row[1],\"\\n\")\n",
        "print(\"Data displayed successfully....\")\n",
        "#connection.close()"
      ],
      "execution_count": 3,
      "outputs": [
        {
          "output_type": "stream",
          "text": [
            "Student Roll =  1\n",
            "Student Name =  Abcd \n",
            "\n",
            "Student Roll =  2\n",
            "Student Name =  Efgh \n",
            "\n",
            "Data displayed successfully....\n"
          ],
          "name": "stdout"
        }
      ]
    },
    {
      "cell_type": "code",
      "metadata": {
        "id": "5I5yM4bnJVNE",
        "colab_type": "code",
        "colab": {
          "base_uri": "https://localhost:8080/",
          "height": 159
        },
        "outputId": "b9888ba6-e435-4529-94f7-a61ff2fa9a9f"
      },
      "source": [
        "# 4. Update the record\n",
        "cursor = connection.execute(\"UPDATE student11 set stud_name = 'Avik' where stud_roll = 1\")\n",
        "print(\"Total number of rows updated:\",connection.total_changes)\n",
        "cursor = connection.execute(\"SELECT stud_roll,stud_name from student11\")\n",
        "for row in cursor:\n",
        "    print(\"Student Roll = \",row[0])\n",
        "    print(\"Student Name = \",row[1],\"\\n\")\n",
        "print(\"Data updated successfully....\")\n",
        "connection.close()"
      ],
      "execution_count": 4,
      "outputs": [
        {
          "output_type": "stream",
          "text": [
            "Total number of rows updated: 3\n",
            "Student Roll =  1\n",
            "Student Name =  Avik \n",
            "\n",
            "Student Roll =  2\n",
            "Student Name =  Efgh \n",
            "\n",
            "Data updated successfully....\n"
          ],
          "name": "stdout"
        }
      ]
    }
  ]
}