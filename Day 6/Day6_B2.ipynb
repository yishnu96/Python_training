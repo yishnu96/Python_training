{
 "cells": [
  {
   "cell_type": "code",
   "execution_count": null,
   "metadata": {},
   "outputs": [],
   "source": [
    "# Database operation\n",
    "# 1. Create a database and create a table\n",
    "import sqlite3\n",
    "connection = sqlite3.connect('test11.db')\n",
    "print(\"Opened database successfully....\")\n",
    "connection.execute('''CREATE TABLE student11\n",
    "                   (stud_roll INTEGER PRIMARY KEY NOT NULL,\n",
    "                   stud_name TEXT);''')\n",
    "print(\"Table created successfully....\")\n",
    "#connection.close()"
   ]
  },
  {
   "cell_type": "code",
   "execution_count": null,
   "metadata": {},
   "outputs": [],
   "source": [
    "# 2. Insert data into the table\n",
    "\n",
    "connection = sqlite3.connect('test11.db')\n",
    "print(\"Opened database successfully....\")\n",
    "connection.execute(\"INSERT INTO student11(stud_roll,stud_name)\\\n",
    "VALUES(1,'Abcd')\");\n",
    "connection.execute(\"INSERT INTO student11(stud_roll,stud_name)\\\n",
    "VALUES(2,'Efgh')\");\n",
    "connection.commit()\n",
    "print(\"Records created successfully....\")\n",
    "#connection.close()"
   ]
  },
  {
   "cell_type": "code",
   "execution_count": null,
   "metadata": {},
   "outputs": [],
   "source": [
    "# 3. Display the data from the table\n",
    "   \n",
    "cursor = connection.execute(\"SELECT stud_roll,stud_name from student11\")\n",
    "for row in cursor:\n",
    "    print(\"Student Roll = \",row[0])\n",
    "    print(\"Student Name = \",row[1],\"\\n\")\n",
    "print(\"Data displayed successfully....\")\n",
    "#connection.close()"
   ]
  },
  {
   "cell_type": "code",
   "execution_count": null,
   "metadata": {},
   "outputs": [],
   "source": [
    "# 4. Update the record\n",
    "cursor = connection.execute(\"UPDATE student11 set stud_name = 'Avik' where stud_roll = 1\")\n",
    "print(\"Total number of rows updated:\",connection.total_changes)\n",
    "cursor = connection.execute(\"SELECT stud_roll,stud_name from student11\")\n",
    "for row in cursor:\n",
    "    print(\"Student Roll = \",row[0])\n",
    "    print(\"Student Name = \",row[1],\"\\n\")\n",
    "print(\"Data updated successfully....\")\n",
    "connection.close()"
   ]
  },
  {
   "cell_type": "code",
   "execution_count": null,
   "metadata": {},
   "outputs": [],
   "source": []
  }
 ],
 "metadata": {
  "kernelspec": {
   "display_name": "Python 3",
   "language": "python",
   "name": "python3"
  },
  "language_info": {
   "codemirror_mode": {
    "name": "ipython",
    "version": 3
   },
   "file_extension": ".py",
   "mimetype": "text/x-python",
   "name": "python",
   "nbconvert_exporter": "python",
   "pygments_lexer": "ipython3",
   "version": "3.7.3"
  }
 },
 "nbformat": 4,
 "nbformat_minor": 2
}
