{
 "cells": [
  {
   "cell_type": "code",
   "execution_count": 4,
   "metadata": {},
   "outputs": [
    {
     "name": "stdout",
     "output_type": "stream",
     "text": [
      "[[11  0  0  0]\n",
      " [ 0 22  0  0]\n",
      " [ 0  0 33  0]\n",
      " [ 0  0  0 44]]\n"
     ]
    }
   ],
   "source": [
    "# question no. 1\n",
    "import numpy as np\n",
    "mat = np.diag([11,22,33,44])\n",
    "print(mat)"
   ]
  },
  {
   "cell_type": "code",
   "execution_count": 9,
   "metadata": {},
   "outputs": [
    {
     "name": "stdout",
     "output_type": "stream",
     "text": [
      "    salary  experience education management\n",
      "0    13876           1  Bachelor          Y\n",
      "1    11608           1      Ph.D          N\n",
      "2    18701           1      Ph.D          Y\n",
      "3    11283           1    Master          N\n",
      "4    11767           1      Ph.D          N\n",
      "5    20872           2    Master          Y\n",
      "6    11772           2    Master          N\n",
      "7    10535           2  Bachelor          N\n",
      "8    12195           2      Ph.D          N\n",
      "9    12313           3    Master          N\n",
      "10   14975           3  Bachelor          Y\n",
      "11   21371           3    Master          Y\n",
      "12   19800           3      Ph.D          Y\n",
      "13   11417           4  Bachelor          N\n",
      "14   20263           4      Ph.D          Y\n",
      "15   13231           4      Ph.D          N\n",
      "16   12884           4    Master          N\n",
      "17   13245           5    Master          N\n",
      "18   13677           5      Ph.D          N\n",
      "19   15965           5  Bachelor          Y\n",
      "20   12336           6  Bachelor          N\n",
      "21   21352           6      Ph.D          Y\n",
      "22   13839           6    Master          N\n",
      "23   22884           6    Master          Y\n",
      "24   16978           7  Bachelor          Y\n",
      "25   14803           8    Master          N\n",
      "26   17404           8  Bachelor          Y\n",
      "27   22184           8      Ph.D          Y\n",
      "28   13548           8  Bachelor          N\n",
      "29   14467          10  Bachelor          N\n",
      "30   15942          10    Master          N\n",
      "31   23174          10      Ph.D          Y\n",
      "32   23780          10    Master          Y\n",
      "33   25410          11    Master          Y\n",
      "34   14861          11  Bachelor          N\n",
      "35   16882          12    Master          N\n",
      "36   24170          12      Ph.D          Y\n",
      "37   15990          13  Bachelor          N\n",
      "38   26330          13    Master          Y\n",
      "39   17949          14    Master          N\n",
      "40   25685          15      Ph.D          Y\n",
      "41   27837          16    Master          Y\n",
      "42   18838          16    Master          N\n",
      "43   17483          16  Bachelor          N\n",
      "44   19207          17    Master          N\n",
      "45   19346          20  Bachelor          N\n"
     ]
    }
   ],
   "source": [
    "import pandas as pd\n",
    "try:\n",
    "    salary = pd.read_csv(\"d:/CSV/salary_table.csv\")\n",
    "except:\n",
    "    url = \"https://raw.github.com/duchesnay/pylearn-doc/master/data/salary_table.csv\"\n",
    "    salary = pd.read_csv(url)\n",
    "df = salary\n",
    "print(df)"
   ]
  },
  {
   "cell_type": "code",
   "execution_count": null,
   "metadata": {},
   "outputs": [],
   "source": []
  },
  {
   "cell_type": "code",
   "execution_count": null,
   "metadata": {},
   "outputs": [],
   "source": []
  }
 ],
 "metadata": {
  "kernelspec": {
   "display_name": "Python 3",
   "language": "python",
   "name": "python3"
  },
  "language_info": {
   "codemirror_mode": {
    "name": "ipython",
    "version": 3
   },
   "file_extension": ".py",
   "mimetype": "text/x-python",
   "name": "python",
   "nbconvert_exporter": "python",
   "pygments_lexer": "ipython3",
   "version": "3.7.3"
  }
 },
 "nbformat": 4,
 "nbformat_minor": 2
}
