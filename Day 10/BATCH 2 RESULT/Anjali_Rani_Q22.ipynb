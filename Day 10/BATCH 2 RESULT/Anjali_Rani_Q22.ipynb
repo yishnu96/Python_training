{
 "cells": [
  {
   "cell_type": "code",
   "execution_count": 6,
   "metadata": {},
   "outputs": [
    {
     "name": "stdout",
     "output_type": "stream",
     "text": [
      "[[0. 1.]\n",
      " [2. 3.]\n",
      " [4. 5.]\n",
      " [6. 7.]\n",
      " [8. 9.]]\n"
     ]
    }
   ],
   "source": [
    "#CREATING A 5X2 MATRIX\n",
    "#question 1\n",
    "\n",
    "import numpy as np\n",
    "matrix=np.arange(10,dtype=float)\n",
    "matrix=matrix.reshape(5,2)\n",
    "print(matrix)"
   ]
  },
  {
   "cell_type": "code",
   "execution_count": 5,
   "metadata": {},
   "outputs": [
    {
     "name": "stdout",
     "output_type": "stream",
     "text": [
      "      Name  Age        Job      Place\n",
      "0   Anjali   20   Engineer      Patna\n",
      "1  Koushik   22     Doctor    Kolkata\n",
      "2   Manish   30     Lawyer      Delhi\n",
      "3     Aman   25  Architect  Bangalore\n"
     ]
    }
   ],
   "source": [
    "#CREATING DATAFRAME WITH 4 ATTRIBUTES\n",
    "#question 2\n",
    "\n",
    "import pandas as pd\n",
    "lst={'Name':['Anjali','Koushik','Manish','Aman'],\n",
    "     'Age':[20,22,30,25],\n",
    "     'Job':['Engineer','Doctor','Lawyer','Architect'],\n",
    "     'Place':['Patna','Kolkata','Delhi','Bangalore']}\n",
    "df=pd.DataFrame(lst)\n",
    "print(df)\n"
   ]
  },
  {
   "cell_type": "code",
   "execution_count": null,
   "metadata": {},
   "outputs": [],
   "source": []
  },
  {
   "cell_type": "code",
   "execution_count": null,
   "metadata": {},
   "outputs": [],
   "source": []
  }
 ],
 "metadata": {
  "kernelspec": {
   "display_name": "Python 3",
   "language": "python",
   "name": "python3"
  },
  "language_info": {
   "codemirror_mode": {
    "name": "ipython",
    "version": 3
   },
   "file_extension": ".py",
   "mimetype": "text/x-python",
   "name": "python",
   "nbconvert_exporter": "python",
   "pygments_lexer": "ipython3",
   "version": "3.7.3"
  }
 },
 "nbformat": 4,
 "nbformat_minor": 2
}
