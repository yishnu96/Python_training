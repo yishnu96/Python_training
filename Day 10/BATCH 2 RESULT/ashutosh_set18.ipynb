{
 "cells": [
  {
   "cell_type": "code",
   "execution_count": 5,
   "metadata": {},
   "outputs": [
    {
     "data": {
      "text/plain": [
       "array([ 0. ,  9.5, 19. ])"
      ]
     },
     "execution_count": 5,
     "metadata": {},
     "output_type": "execute_result"
    }
   ],
   "source": [
    "import numpy as np\n",
    "np.linspace(0,19,3)\n"
   ]
  },
  {
   "cell_type": "code",
   "execution_count": 6,
   "metadata": {},
   "outputs": [
    {
     "data": {
      "text/plain": [
       "array([1.00000000e+00, 4.64158883e+06, 2.15443469e+13, 1.00000000e+20])"
      ]
     },
     "execution_count": 6,
     "metadata": {},
     "output_type": "execute_result"
    }
   ],
   "source": [
    "np.logspace(0,20,4)"
   ]
  },
  {
   "cell_type": "code",
   "execution_count": null,
   "metadata": {},
   "outputs": [],
   "source": []
  },
  {
   "cell_type": "code",
   "execution_count": 13,
   "metadata": {},
   "outputs": [
    {
     "name": "stdout",
     "output_type": "stream",
     "text": [
      "Given Dataframe :\n",
      "      Name  Age Stream\n",
      "0   Adnan   21    CSE\n",
      "1    Aman   19    CSE\n",
      "2  Anjali   20     IT\n",
      "3  Sonika   18    CSE\n",
      "4   Priya   17    ECE\n",
      "5  Manish   21     EC\n",
      "\n",
      "Result dataframe :\n",
      "      Name  Age Stream\n",
      "1    Aman   19    CSE\n",
      "3  Sonika   18    CSE\n",
      "4   Priya   17    ECE\n"
     ]
    }
   ],
   "source": [
    "# importing pandas \n",
    "import pandas as pd \n",
    "  \n",
    "record = { \n",
    "  'Name': ['Adnan', 'Aman', 'Anjali', 'Sonika', 'Priya', 'Manish' ], \n",
    "  'Age': [21, 19, 20, 18, 17, 21], \n",
    "  'Stream': ['CSE', 'CSE', 'IT', 'CSE', 'ECE', 'EC'],\n",
    "'college':['TIB','IITKGP','IIEST','NIT DGP','IIITKLYNI','JU']} \n",
    "  \n",
    "# create a dataframe \n",
    "dataframe = pd.DataFrame(record, columns = ['Name', 'Age', 'Stream',]) \n",
    "  \n",
    "print(\"Given Dataframe :\\n\", dataframe)  \n",
    "  \n",
    "# selecting rows based on condition \n",
    "rslt_df = dataframe.loc[dataframe['Age'] < 20] \n",
    "  \n",
    "print('\\nResult dataframe :\\n', rslt_df) "
   ]
  },
  {
   "cell_type": "code",
   "execution_count": null,
   "metadata": {},
   "outputs": [],
   "source": []
  }
 ],
 "metadata": {
  "kernelspec": {
   "display_name": "Python 3",
   "language": "python",
   "name": "python3"
  },
  "language_info": {
   "codemirror_mode": {
    "name": "ipython",
    "version": 3
   },
   "file_extension": ".py",
   "mimetype": "text/x-python",
   "name": "python",
   "nbconvert_exporter": "python",
   "pygments_lexer": "ipython3",
   "version": "3.7.3"
  }
 },
 "nbformat": 4,
 "nbformat_minor": 2
}
