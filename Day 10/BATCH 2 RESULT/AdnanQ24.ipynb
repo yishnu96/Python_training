{
 "cells": [
  {
   "cell_type": "code",
   "execution_count": 18,
   "metadata": {},
   "outputs": [
    {
     "data": {
      "text/plain": [
       "array([ 0. ,  2.5,  5. ,  7.5, 10. ])"
      ]
     },
     "execution_count": 18,
     "metadata": {},
     "output_type": "execute_result"
    }
   ],
   "source": [
    "import numpy as np\n",
    "np.linspace(0, 10, 5)"
   ]
  },
  {
   "cell_type": "code",
   "execution_count": 14,
   "metadata": {},
   "outputs": [
    {
     "data": {
      "text/plain": [
       "array([   2.,    4.,    8.,   16.,   32.,   64.,  128.,  256.,  512.,\n",
       "       1024.])"
      ]
     },
     "execution_count": 14,
     "metadata": {},
     "output_type": "execute_result"
    }
   ],
   "source": [
    "np.logspace(1, 10, 10, base=2)"
   ]
  },
  {
   "cell_type": "code",
   "execution_count": 22,
   "metadata": {},
   "outputs": [
    {
     "name": "stdout",
     "output_type": "stream",
     "text": [
      "Full Data\n",
      "       Name  Age Gender\n",
      "0     Adnan   22      M\n",
      "1  Ashutosh   23      M\n",
      "0    Anjali   18      F\n",
      "1      Aman   18      M\n",
      "0    Mukesh   17      M\n",
      "1      Hati   17      M\n",
      "#Age less then 20\n",
      "     Name  Age Gender\n",
      "0  Anjali   18      F\n",
      "1    Aman   18      M\n",
      "0  Mukesh   17      M\n",
      "1    Hati   17      M\n"
     ]
    }
   ],
   "source": [
    "import pandas as pd\n",
    "cols = [\"Name\",\"Age\",\"Gender\"]\n",
    "user1 = pd.DataFrame([[\"Adnan\",22,\"M\"],[\"Ashutosh\",23,\"M\"]],columns = cols)\n",
    "user2 = pd.DataFrame([[\"Anjali\",18,\"F\"],[\"Aman\",18,\"M\"]],columns = cols)\n",
    "user3 = pd.DataFrame([[\"Mukesh\",17,\"M\"],[\"Hati\",17,\"M\"]],columns = cols)\n",
    "users = pd.concat([user1,user2,user3])\n",
    "print(\"Full Data\")\n",
    "print(users)\n",
    "print(\"#Age less then 20\")\n",
    "print(users[users.Age < 20])\n"
   ]
  },
  {
   "cell_type": "code",
   "execution_count": null,
   "metadata": {},
   "outputs": [],
   "source": []
  }
 ],
 "metadata": {
  "kernelspec": {
   "display_name": "Python 3",
   "language": "python",
   "name": "python3"
  },
  "language_info": {
   "codemirror_mode": {
    "name": "ipython",
    "version": 3
   },
   "file_extension": ".py",
   "mimetype": "text/x-python",
   "name": "python",
   "nbconvert_exporter": "python",
   "pygments_lexer": "ipython3",
   "version": "3.7.3"
  }
 },
 "nbformat": 4,
 "nbformat_minor": 2
}
