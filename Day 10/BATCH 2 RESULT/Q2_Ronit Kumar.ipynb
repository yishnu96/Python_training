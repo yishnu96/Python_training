{
 "cells": [
  {
   "cell_type": "code",
   "execution_count": 9,
   "metadata": {},
   "outputs": [
    {
     "data": {
      "text/plain": [
       "array([[11,  0,  0,  0],\n",
       "       [ 0, 22,  0,  0],\n",
       "       [ 0,  0, 33,  0],\n",
       "       [ 0,  0,  0, 44]])"
      ]
     },
     "execution_count": 9,
     "metadata": {},
     "output_type": "execute_result"
    }
   ],
   "source": [
    "import numpy as np\n",
    "np.diag([11,22,33,44])"
   ]
  },
  {
   "cell_type": "code",
   "execution_count": 4,
   "metadata": {},
   "outputs": [
    {
     "name": "stdout",
     "output_type": "stream",
     "text": [
      "  Start Date   Start Time  End Date    End Time                  Event Title   \\\n",
      "0    9/5/2011  3:00:00 PM  9/5/2011         NaN  Social Studies Dept. Meeting   \n",
      "1    9/5/2011  6:00:00 PM  9/5/2011  8:00:00 PM            Curriculum Meeting   \n",
      "\n",
      "  All Day Event No End Time   Event Description         Contact   \\\n",
      "0             N           Y  Department meeting  Chris Gallagher   \n",
      "1             N           N  Curriculum Meeting  Chris Gallagher   \n",
      "\n",
      "                Contact Email Contact Phone     Location  Category Mandatory  \\\n",
      "0  cgallagher@schoolwires.com  814-555-5179  High School         2         N   \n",
      "1  cgallagher@schoolwires.com  814-555-5179  High School         2         N   \n",
      "\n",
      "  Registration  Maximum Last Date To Register  \n",
      "0            N       25              9/2/2011  \n",
      "1            N       25              9/2/2011  \n"
     ]
    }
   ],
   "source": [
    "import pandas as pd\n",
    "try:\n",
    "    events = pd.read_csv(\"\")\n",
    "except:\n",
    "    url = \"http://insight.dev.schoolwires.com/HelpAssets/C2Assets/C2Files/C2ImportCalEventSample.csv\"\n",
    "    events = pd.read_csv(url)\n",
    "    df= events\n",
    "    print(df)"
   ]
  },
  {
   "cell_type": "code",
   "execution_count": null,
   "metadata": {},
   "outputs": [],
   "source": []
  }
 ],
 "metadata": {
  "kernelspec": {
   "display_name": "Python 3",
   "language": "python",
   "name": "python3"
  },
  "language_info": {
   "codemirror_mode": {
    "name": "ipython",
    "version": 3
   },
   "file_extension": ".py",
   "mimetype": "text/x-python",
   "name": "python",
   "nbconvert_exporter": "python",
   "pygments_lexer": "ipython3",
   "version": "3.7.3"
  }
 },
 "nbformat": 4,
 "nbformat_minor": 2
}
