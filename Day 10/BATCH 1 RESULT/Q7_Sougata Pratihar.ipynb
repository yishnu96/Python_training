{
 "cells": [
  {
   "cell_type": "code",
   "execution_count": 21,
   "metadata": {},
   "outputs": [
    {
     "name": "stdout",
     "output_type": "stream",
     "text": [
      "[1 2 3 4 5 6]\n"
     ]
    }
   ],
   "source": [
    "#1.Write the code to create an array from a list and display the items\n",
    "import numpy as np\n",
    "data5=[1,2,3,4,5,6]\n",
    "arr1=np.array(data5)\n",
    "print(arr1)"
   ]
  },
  {
   "cell_type": "code",
   "execution_count": 23,
   "metadata": {},
   "outputs": [
    {
     "name": "stdout",
     "output_type": "stream",
     "text": [
      "enter the number:50\n",
      "the number is bigger than 20:\n",
      "bye...\n",
      "end of programe:\n"
     ]
    }
   ],
   "source": [
    "#2.\tWrite a code to check a number which is less than or greater than 20 using if-elif condition and implement try-raise-except-finally blocks.\n",
    "try:\n",
    "    num1=int(input(\"enter the number:\"))\n",
    "    if(num1<20):\n",
    "        raise NameError(\"the number is smaller than 20:\")\n",
    "    elif(num1>20):\n",
    "        raise NameError(\"the number is bigger than 20:\")\n",
    "    print(\"enter number is:\" ,num1)\n",
    "except NameError as ne:\n",
    "    print(ne)\n",
    "finally:\n",
    "    print(\"bye...\")\n",
    "print(\"end of programe:\")"
   ]
  },
  {
   "cell_type": "code",
   "execution_count": 25,
   "metadata": {},
   "outputs": [
    {
     "name": "stdout",
     "output_type": "stream",
     "text": [
      "operation database sucessfully\n",
      "table create sucessfully:\n",
      "opened database sucessfully\n",
      "record create sucessfully:\n",
      "teacher id= 1\n",
      "teacher name= ASDF \n",
      "\n",
      "teacher id= 2\n",
      "teacher name= ZXCV \n",
      "\n",
      "data display sucessfully:\n"
     ]
    }
   ],
   "source": [
    "#3.\tCreate a table in a database and display the value from the table.\n",
    "import sqlite3\n",
    "connection=sqlite3.connect('test4.db')\n",
    "print(\"operation database sucessfully\")\n",
    "connection.execute(\"CREATE TABLE teacher11(tech_id INTEGER PRIMARY KEY NOT NULL, tech_name Text);\")\n",
    "print(\"table create sucessfully:\")\n",
    "#connection.close()\n",
    "print(\"opened database sucessfully\")\n",
    "connection.execute(\"INSERT INTO teacher11(tech_id,tech_name)\\\n",
    "VALUES(1,'ASDF')\");\n",
    "connection.execute(\"INSERT INTO teacher11(tech_id,tech_name)\\\n",
    "VALUES(2,'ZXCV')\");\n",
    "connection.commit()\n",
    "print(\"record create sucessfully:\")\n",
    "#connection.close()\n",
    "cursor=connection.execute(\"SELECT tech_id,tech_name from teacher11\")\n",
    "for row in cursor:\n",
    "    print(\"teacher id=\",row[0])\n",
    "    print(\"teacher name=\",row[1],\"\\n\")\n",
    "print(\"data display sucessfully:\")\n",
    "connection.close()"
   ]
  },
  {
   "cell_type": "code",
   "execution_count": null,
   "metadata": {},
   "outputs": [],
   "source": []
  }
 ],
 "metadata": {
  "kernelspec": {
   "display_name": "Python 3",
   "language": "python",
   "name": "python3"
  },
  "language_info": {
   "codemirror_mode": {
    "name": "ipython",
    "version": 3
   },
   "file_extension": ".py",
   "mimetype": "text/x-python",
   "name": "python",
   "nbconvert_exporter": "python",
   "pygments_lexer": "ipython3",
   "version": "3.7.3"
  }
 },
 "nbformat": 4,
 "nbformat_minor": 2
}
