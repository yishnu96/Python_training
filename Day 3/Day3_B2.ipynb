{
 "cells": [
  {
   "cell_type": "code",
   "execution_count": null,
   "metadata": {},
   "outputs": [],
   "source": [
    "#  Function without a return statement\n",
    "def hello1():\n",
    "    print(\"Hello Python....\")\n",
    "    \n",
    "hello1()"
   ]
  },
  {
   "cell_type": "code",
   "execution_count": null,
   "metadata": {},
   "outputs": [],
   "source": [
    "# Function with a return statement\n",
    "def hello2():\n",
    "    return \"Hello World....\"\n",
    "\n",
    "print(hello2())"
   ]
  },
  {
   "cell_type": "code",
   "execution_count": null,
   "metadata": {},
   "outputs": [],
   "source": [
    "def function1():\n",
    "    print(\"Hello \" * 5)\n",
    "def function2(num):\n",
    "    print(\"Hello \" * num)\n",
    "def function3(num):\n",
    "    return (\"Hello \" * num)\n",
    "\n",
    "function1()\n",
    "function2(8)\n",
    "function2(3)\n",
    "str = function3(4)\n",
    "print(str)\n",
    "print(function3(7))"
   ]
  },
  {
   "cell_type": "code",
   "execution_count": null,
   "metadata": {},
   "outputs": [],
   "source": [
    "# Function with arguments\n",
    "def function4(arg1 = 111, arg2 = 222, arg3 = 333):\n",
    "    print(\"arg1 = \",arg1,\"arg2 = \",arg2,\"arg3 = \",arg3)\n",
    "    \n",
    "function4(100,200,300)\n",
    "function4(100,200)\n",
    "function4(100)\n",
    "function4()\n",
    "function4(arg3 = 300, arg1 = 100)"
   ]
  },
  {
   "cell_type": "code",
   "execution_count": null,
   "metadata": {},
   "outputs": [],
   "source": [
    "def function5(num1, num2 = None):\n",
    "    if(num2 == None):\n",
    "        return (2 * num1)\n",
    "    else:\n",
    "        return (num1 * num2)\n",
    "print(\"The result is:\",function5(100,40))\n",
    "print(\"The result is:\",function5(100))"
   ]
  },
  {
   "cell_type": "code",
   "execution_count": null,
   "metadata": {},
   "outputs": [],
   "source": [
    "# Using del keyword\n",
    "a = 10\n",
    "print(a)\n",
    "del a\n",
    "print(a)"
   ]
  },
  {
   "cell_type": "code",
   "execution_count": null,
   "metadata": {},
   "outputs": [],
   "source": [
    "# if....elif....else condition\n",
    "num = 4\n",
    "if num == 1:\n",
    "    print(\"One\")\n",
    "elif num == 2:\n",
    "    print(\"Two\")\n",
    "elif num == 3:\n",
    "    print(\"Three\")\n",
    "else:\n",
    "    print(\"Something else.\")"
   ]
  },
  {
   "cell_type": "code",
   "execution_count": null,
   "metadata": {},
   "outputs": [],
   "source": []
  },
  {
   "cell_type": "code",
   "execution_count": null,
   "metadata": {},
   "outputs": [],
   "source": [
    "# try....raise....except....finally keyword\n",
    "try:\n",
    "    x = 9\n",
    "    raise ZeroDivisionError\n",
    "except ZeroDivisionError:\n",
    "    print(\"Division cannot be performed\")\n",
    "finally:\n",
    "    print(\"Executed Successfully\")"
   ]
  }
 ],
 "metadata": {
  "kernelspec": {
   "display_name": "Python 3",
   "language": "python",
   "name": "python3"
  },
  "language_info": {
   "codemirror_mode": {
    "name": "ipython",
    "version": 3
   },
   "file_extension": ".py",
   "mimetype": "text/x-python",
   "name": "python",
   "nbconvert_exporter": "python",
   "pygments_lexer": "ipython3",
   "version": "3.7.3"
  }
 },
 "nbformat": 4,
 "nbformat_minor": 2
}
