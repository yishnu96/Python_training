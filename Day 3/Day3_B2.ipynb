{
  "nbformat": 4,
  "nbformat_minor": 0,
  "metadata": {
    "colab": {
      "name": "Day3_B2.ipynb",
      "version": "0.3.2",
      "provenance": []
    },
    "language_info": {
      "codemirror_mode": {
        "name": "ipython",
        "version": 3
      },
      "file_extension": ".py",
      "mimetype": "text/x-python",
      "name": "python",
      "nbconvert_exporter": "python",
      "pygments_lexer": "ipython3",
      "version": "3.7.3"
    },
    "kernelspec": {
      "display_name": "Python 3",
      "language": "python",
      "name": "python3"
    }
  },
  "cells": [
    {
      "cell_type": "code",
      "metadata": {
        "id": "gJHvX12JKT7q",
        "colab_type": "code",
        "colab": {
          "base_uri": "https://localhost:8080/",
          "height": 35
        },
        "outputId": "cc1384bb-926e-475a-a2c6-16f3fce01c75"
      },
      "source": [
        "#  Function without a return statement\n",
        "def hello1():\n",
        "    print(\"Hello Python....\")\n",
        "    \n",
        "hello1()"
      ],
      "execution_count": 1,
      "outputs": [
        {
          "output_type": "stream",
          "text": [
            "Hello Python....\n"
          ],
          "name": "stdout"
        }
      ]
    },
    {
      "cell_type": "code",
      "metadata": {
        "id": "ukI8I6InKT7u",
        "colab_type": "code",
        "colab": {
          "base_uri": "https://localhost:8080/",
          "height": 53
        },
        "outputId": "a3bf1de9-12dc-48a3-fb0f-d6b9c2fc8cf8"
      },
      "source": [
        "# Function with a return statement\n",
        "def hello2():\n",
        "    return \"Hello World....\"\n",
        "\n",
        "print(hello2())"
      ],
      "execution_count": 2,
      "outputs": [
        {
          "output_type": "stream",
          "text": [
            "Hello World....\n",
            "Hello World....\n"
          ],
          "name": "stdout"
        }
      ]
    },
    {
      "cell_type": "code",
      "metadata": {
        "id": "Eb1Na8CTKT7w",
        "colab_type": "code",
        "colab": {
          "base_uri": "https://localhost:8080/",
          "height": 106
        },
        "outputId": "a139a27a-8ffb-4d58-ca42-efbd379caf9d"
      },
      "source": [
        "def function1():\n",
        "    print(\"Hello \" * 5)\n",
        "def function2(num):\n",
        "    print(\"Hello \" * num)\n",
        "def function3(num):\n",
        "    return (\"Hello \" * num)\n",
        "\n",
        "function1()\n",
        "function2(8)\n",
        "function2(3)\n",
        "str = function3(4)\n",
        "print(str)\n",
        "print(function3(7))"
      ],
      "execution_count": 3,
      "outputs": [
        {
          "output_type": "stream",
          "text": [
            "Hello Hello Hello Hello Hello \n",
            "Hello Hello Hello Hello Hello Hello Hello Hello \n",
            "Hello Hello Hello \n",
            "Hello Hello Hello Hello \n",
            "Hello Hello Hello Hello Hello Hello Hello \n"
          ],
          "name": "stdout"
        }
      ]
    },
    {
      "cell_type": "code",
      "metadata": {
        "id": "eAWmWsRPKT7y",
        "colab_type": "code",
        "colab": {
          "base_uri": "https://localhost:8080/",
          "height": 106
        },
        "outputId": "dfda64cc-0c4b-476a-f6b6-955745062954"
      },
      "source": [
        "# Function with arguments\n",
        "def function4(arg1 = 111, arg2 = 222, arg3 = 333):\n",
        "    print(\"arg1 = \",arg1,\"arg2 = \",arg2,\"arg3 = \",arg3)\n",
        "    \n",
        "function4(100,200,300)\n",
        "function4(100,200)\n",
        "function4(100)\n",
        "function4()\n",
        "function4(arg3 = 300, arg1 = 100)"
      ],
      "execution_count": 4,
      "outputs": [
        {
          "output_type": "stream",
          "text": [
            "arg1 =  100 arg2 =  200 arg3 =  300\n",
            "arg1 =  100 arg2 =  200 arg3 =  333\n",
            "arg1 =  100 arg2 =  222 arg3 =  333\n",
            "arg1 =  111 arg2 =  222 arg3 =  333\n",
            "arg1 =  100 arg2 =  222 arg3 =  300\n"
          ],
          "name": "stdout"
        }
      ]
    },
    {
      "cell_type": "code",
      "metadata": {
        "id": "4KlWbRttKT70",
        "colab_type": "code",
        "colab": {
          "base_uri": "https://localhost:8080/",
          "height": 53
        },
        "outputId": "faa25b44-2059-4402-bee8-841967f27053"
      },
      "source": [
        "def function5(num1, num2 = None):\n",
        "    if(num2 == None):\n",
        "        return (2 * num1)\n",
        "    else:\n",
        "        return (num1 * num2)\n",
        "print(\"The result is:\",function5(100,40))\n",
        "print(\"The result is:\",function5(100))"
      ],
      "execution_count": 5,
      "outputs": [
        {
          "output_type": "stream",
          "text": [
            "The result is: 4000\n",
            "The result is: 200\n"
          ],
          "name": "stdout"
        }
      ]
    },
    {
      "cell_type": "code",
      "metadata": {
        "id": "DdV0oCw9KT72",
        "colab_type": "code",
        "colab": {
          "base_uri": "https://localhost:8080/",
          "height": 222
        },
        "outputId": "bac21702-6752-47fd-efb3-078a42c534ee"
      },
      "source": [
        "# Using del keyword\n",
        "a = 10\n",
        "print(a)\n",
        "del a\n",
        "print(a)"
      ],
      "execution_count": 6,
      "outputs": [
        {
          "output_type": "stream",
          "text": [
            "10\n"
          ],
          "name": "stdout"
        },
        {
          "output_type": "error",
          "ename": "NameError",
          "evalue": "ignored",
          "traceback": [
            "\u001b[0;31m---------------------------------------------------------------------------\u001b[0m",
            "\u001b[0;31mNameError\u001b[0m                                 Traceback (most recent call last)",
            "\u001b[0;32m<ipython-input-6-1aad90c7d7c3>\u001b[0m in \u001b[0;36m<module>\u001b[0;34m()\u001b[0m\n\u001b[1;32m      2\u001b[0m \u001b[0mprint\u001b[0m\u001b[0;34m(\u001b[0m\u001b[0ma\u001b[0m\u001b[0;34m)\u001b[0m\u001b[0;34m\u001b[0m\u001b[0;34m\u001b[0m\u001b[0m\n\u001b[1;32m      3\u001b[0m \u001b[0;32mdel\u001b[0m \u001b[0ma\u001b[0m\u001b[0;34m\u001b[0m\u001b[0;34m\u001b[0m\u001b[0m\n\u001b[0;32m----> 4\u001b[0;31m \u001b[0mprint\u001b[0m\u001b[0;34m(\u001b[0m\u001b[0ma\u001b[0m\u001b[0;34m)\u001b[0m\u001b[0;34m\u001b[0m\u001b[0;34m\u001b[0m\u001b[0m\n\u001b[0m",
            "\u001b[0;31mNameError\u001b[0m: name 'a' is not defined"
          ]
        }
      ]
    },
    {
      "cell_type": "code",
      "metadata": {
        "id": "AN0zET7XKT77",
        "colab_type": "code",
        "colab": {
          "base_uri": "https://localhost:8080/",
          "height": 35
        },
        "outputId": "a71e738c-91cb-47bd-e2de-44b3490fe081"
      },
      "source": [
        "# if....elif....else condition\n",
        "num = 4\n",
        "if num == 1:\n",
        "    print(\"One\")\n",
        "elif num == 2:\n",
        "    print(\"Two\")\n",
        "elif num == 3:\n",
        "    print(\"Three\")\n",
        "else:\n",
        "    print(\"Something else.\")"
      ],
      "execution_count": 7,
      "outputs": [
        {
          "output_type": "stream",
          "text": [
            "Something else.\n"
          ],
          "name": "stdout"
        }
      ]
    },
    {
      "cell_type": "code",
      "metadata": {
        "id": "hkeBLoKDKT7-",
        "colab_type": "code",
        "colab": {}
      },
      "source": [
        ""
      ],
      "execution_count": 0,
      "outputs": []
    },
    {
      "cell_type": "code",
      "metadata": {
        "id": "vvWNz157KT8C",
        "colab_type": "code",
        "colab": {
          "base_uri": "https://localhost:8080/",
          "height": 53
        },
        "outputId": "4ac9d8be-d4a5-49cf-a31a-363cc4b3d907"
      },
      "source": [
        "# try....raise....except....finally keyword\n",
        "try:\n",
        "    x = 9\n",
        "    raise ZeroDivisionError\n",
        "except ZeroDivisionError:\n",
        "    print(\"Division cannot be performed\")\n",
        "finally:\n",
        "    print(\"Executed Successfully\")"
      ],
      "execution_count": 8,
      "outputs": [
        {
          "output_type": "stream",
          "text": [
            "Division cannot be performed\n",
            "Executed Successfully\n"
          ],
          "name": "stdout"
        }
      ]
    }
  ]
}