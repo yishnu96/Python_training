{
  "nbformat": 4,
  "nbformat_minor": 0,
  "metadata": {
    "colab": {
      "name": "Day3_B1.ipynb",
      "version": "0.3.2",
      "provenance": []
    },
    "language_info": {
      "codemirror_mode": {
        "name": "ipython",
        "version": 3
      },
      "file_extension": ".py",
      "mimetype": "text/x-python",
      "name": "python",
      "nbconvert_exporter": "python",
      "pygments_lexer": "ipython3",
      "version": "3.7.3"
    },
    "kernelspec": {
      "display_name": "Python 3",
      "language": "python",
      "name": "python3"
    }
  },
  "cells": [
    {
      "cell_type": "code",
      "metadata": {
        "id": "N3Hbd3MaJkZS",
        "colab_type": "code",
        "colab": {
          "base_uri": "https://localhost:8080/",
          "height": 35
        },
        "outputId": "e7e451a6-6619-4c62-b97f-5a7282b94be3"
      },
      "source": [
        "# if....elif....else condition\n",
        "num = 4\n",
        "if num == 1:\n",
        "    print('One')\n",
        "elif num == 2:\n",
        "    print('Two')\n",
        "elif num == 3:\n",
        "    print('Three')\n",
        "else:\n",
        "    print('Something else.')"
      ],
      "execution_count": 1,
      "outputs": [
        {
          "output_type": "stream",
          "text": [
            "Something else.\n"
          ],
          "name": "stdout"
        }
      ]
    },
    {
      "cell_type": "code",
      "metadata": {
        "id": "D-iKvsuqJkZW",
        "colab_type": "code",
        "colab": {
          "base_uri": "https://localhost:8080/",
          "height": 124
        },
        "outputId": "172e1c41-4637-4800-9961-6b6661144b10"
      },
      "source": [
        "# if....elif....else condition with input() function\n",
        "num1 = int(input(\"Please enter the first number -->\"))\n",
        "num2 = int(input(\"Please enter the second number -->\"))\n",
        "num3 = int(input(\"Please enter the third number -->\"))\n",
        "print(\"The maximum number is -->\")\n",
        "if(num1 > num2):\n",
        "    if(num1 > num3):\n",
        "        print(num1)\n",
        "    else:52\n",
        "        print(num3)\n",
        "elif(num2 > num3):\n",
        "    print(num2)\n",
        "else:\n",
        "    print(num3)\n",
        "print(\"End of the program....\")\n"
      ],
      "execution_count": 3,
      "outputs": [
        {
          "output_type": "stream",
          "text": [
            "Please enter the first number -->52\n",
            "Please enter the second number -->65\n",
            "Please enter the third number -->102\n",
            "The maximum number is -->\n",
            "102\n",
            "End of the program....\n"
          ],
          "name": "stdout"
        }
      ]
    },
    {
      "cell_type": "code",
      "metadata": {
        "id": "cJvZcSWBJkZY",
        "colab_type": "code",
        "colab": {
          "base_uri": "https://localhost:8080/",
          "height": 124
        },
        "outputId": "f2479043-0b80-426f-aff2-687271cbef58"
      },
      "source": [
        "num1 = int(input(\"Please enter the first number -->\"))\n",
        "num2 = int(input(\"Please enter the second number -->\"))\n",
        "num3 = int(input(\"Please enter the third number -->\"))\n",
        "print(\"The maximum number is -->\")\n",
        "if(num1 >= num2 and num1 >= num3):\n",
        "    print(num1)\n",
        "elif(num2 >= num3):\n",
        "    print(num2)\n",
        "else:\n",
        "    print(num3)\n",
        "print(\"End of the program....\")"
      ],
      "execution_count": 4,
      "outputs": [
        {
          "output_type": "stream",
          "text": [
            "Please enter the first number -->45\n",
            "Please enter the second number -->3\n",
            "Please enter the third number -->8\n",
            "The maximum number is -->\n",
            "45\n",
            "End of the program....\n"
          ],
          "name": "stdout"
        }
      ]
    },
    {
      "cell_type": "code",
      "metadata": {
        "id": "OUAs8aHOJkZa",
        "colab_type": "code",
        "colab": {
          "base_uri": "https://localhost:8080/",
          "height": 515
        },
        "outputId": "4cf6df51-4a9e-4682-ae2b-3a3c74f9f37d"
      },
      "source": [
        "print(\"Visit Doctor....\")\n",
        "day = 1\n",
        "medi_count = 0\n",
        "while (day <= 5):\n",
        "    print(\"Good Morning....\")\n",
        "    medi = 1\n",
        "    while (medi <= 3):\n",
        "        print(\"Day number =\",day,\"Medicine number =\",medi)\n",
        "        medi_count += 1\n",
        "        medi += 1\n",
        "    print(\"Good Night....\")\n",
        "    day += 1\n",
        "print(\"Thanks Doctor....\")\n",
        "print(\"So the total medicine count =\",medi_count)"
      ],
      "execution_count": 5,
      "outputs": [
        {
          "output_type": "stream",
          "text": [
            "Visit Doctor....\n",
            "Good Morning....\n",
            "Day number = 1 Medicine number = 1\n",
            "Day number = 1 Medicine number = 2\n",
            "Day number = 1 Medicine number = 3\n",
            "Good Night....\n",
            "Good Morning....\n",
            "Day number = 2 Medicine number = 1\n",
            "Day number = 2 Medicine number = 2\n",
            "Day number = 2 Medicine number = 3\n",
            "Good Night....\n",
            "Good Morning....\n",
            "Day number = 3 Medicine number = 1\n",
            "Day number = 3 Medicine number = 2\n",
            "Day number = 3 Medicine number = 3\n",
            "Good Night....\n",
            "Good Morning....\n",
            "Day number = 4 Medicine number = 1\n",
            "Day number = 4 Medicine number = 2\n",
            "Day number = 4 Medicine number = 3\n",
            "Good Night....\n",
            "Good Morning....\n",
            "Day number = 5 Medicine number = 1\n",
            "Day number = 5 Medicine number = 2\n",
            "Day number = 5 Medicine number = 3\n",
            "Good Night....\n",
            "Thanks Doctor....\n",
            "So the total medicine count = 15\n"
          ],
          "name": "stdout"
        }
      ]
    },
    {
      "cell_type": "code",
      "metadata": {
        "id": "O-u6xrlrJkZd",
        "colab_type": "code",
        "colab": {
          "base_uri": "https://localhost:8080/",
          "height": 222
        },
        "outputId": "ebf52fc1-e007-43e8-c12a-0d68be74bea1"
      },
      "source": [
        "# Using del keyword\n",
        "a = 10\n",
        "print(a)\n",
        "del a\n",
        "print(a)"
      ],
      "execution_count": 6,
      "outputs": [
        {
          "output_type": "stream",
          "text": [
            "10\n"
          ],
          "name": "stdout"
        },
        {
          "output_type": "error",
          "ename": "NameError",
          "evalue": "ignored",
          "traceback": [
            "\u001b[0;31m---------------------------------------------------------------------------\u001b[0m",
            "\u001b[0;31mNameError\u001b[0m                                 Traceback (most recent call last)",
            "\u001b[0;32m<ipython-input-6-1aad90c7d7c3>\u001b[0m in \u001b[0;36m<module>\u001b[0;34m()\u001b[0m\n\u001b[1;32m      2\u001b[0m \u001b[0mprint\u001b[0m\u001b[0;34m(\u001b[0m\u001b[0ma\u001b[0m\u001b[0;34m)\u001b[0m\u001b[0;34m\u001b[0m\u001b[0;34m\u001b[0m\u001b[0m\n\u001b[1;32m      3\u001b[0m \u001b[0;32mdel\u001b[0m \u001b[0ma\u001b[0m\u001b[0;34m\u001b[0m\u001b[0;34m\u001b[0m\u001b[0m\n\u001b[0;32m----> 4\u001b[0;31m \u001b[0mprint\u001b[0m\u001b[0;34m(\u001b[0m\u001b[0ma\u001b[0m\u001b[0;34m)\u001b[0m\u001b[0;34m\u001b[0m\u001b[0;34m\u001b[0m\u001b[0m\n\u001b[0m",
            "\u001b[0;31mNameError\u001b[0m: name 'a' is not defined"
          ]
        }
      ]
    },
    {
      "cell_type": "code",
      "metadata": {
        "id": "XAOhe5BWJkZf",
        "colab_type": "code",
        "colab": {
          "base_uri": "https://localhost:8080/",
          "height": 53
        },
        "outputId": "e69faaa9-8cb0-4fdb-c6d5-66fe11b2a037"
      },
      "source": [
        "# Using try....raise....except....finally keywords\n",
        "try:\n",
        "    x = 9\n",
        "    raise ZeroDivisionError\n",
        "except ZeroDivisionError:\n",
        "    print(\"Division can not be performed\")\n",
        "finally:\n",
        "    print(\"Executed Successfully....\")"
      ],
      "execution_count": 7,
      "outputs": [
        {
          "output_type": "stream",
          "text": [
            "Division can not be performed\n",
            "Executed Successfully....\n"
          ],
          "name": "stdout"
        }
      ]
    },
    {
      "cell_type": "code",
      "metadata": {
        "id": "nC4bT_muJkZh",
        "colab_type": "code",
        "colab": {
          "base_uri": "https://localhost:8080/",
          "height": 70
        },
        "outputId": "989bbd4c-fd4e-448c-c2ba-ef29b606300b"
      },
      "source": [
        "# Using global variables\n",
        "globvar = 10\n",
        "def read1():\n",
        "    print(globvar)\n",
        "def write1():\n",
        "    global globvar\n",
        "    globvar = 5\n",
        "def write2():\n",
        "    globvar = 15\n",
        "read1()\n",
        "write1()\n",
        "read1()\n",
        "write2()\n",
        "read1()"
      ],
      "execution_count": 8,
      "outputs": [
        {
          "output_type": "stream",
          "text": [
            "10\n",
            "5\n",
            "5\n"
          ],
          "name": "stdout"
        }
      ]
    },
    {
      "cell_type": "code",
      "metadata": {
        "id": "_04p82UiJkZj",
        "colab_type": "code",
        "colab": {
          "base_uri": "https://localhost:8080/",
          "height": 53
        },
        "outputId": "4bdf9b3d-37b9-491d-cf43-aeb903ed7bf1"
      },
      "source": [
        "# Function \n",
        "def hello1(): # Without a return statement\n",
        "    print(\"Hello Python....\")\n",
        "def hello2(): # With a return statement\n",
        "    return \"Hello World....\"\n",
        "\n",
        "hello1()\n",
        "print(hello2())    "
      ],
      "execution_count": 9,
      "outputs": [
        {
          "output_type": "stream",
          "text": [
            "Hello Python....\n",
            "Hello World....\n"
          ],
          "name": "stdout"
        }
      ]
    },
    {
      "cell_type": "code",
      "metadata": {
        "id": "hl273IypJkZm",
        "colab_type": "code",
        "colab": {
          "base_uri": "https://localhost:8080/",
          "height": 106
        },
        "outputId": "32f44489-cb3b-4124-8f73-5202396ebf29"
      },
      "source": [
        "def function1():\n",
        "    print(\"Hello\" * 5)\n",
        "def function2(num):\n",
        "    print(\"Hello\" * num)\n",
        "def function3(num):\n",
        "    return (\"Hello\" * num)\n",
        "\n",
        "function1()\n",
        "function2(8)\n",
        "function2(3)\n",
        "str1 = function3(4)\n",
        "print(str1)\n",
        "print(function3(7))"
      ],
      "execution_count": 10,
      "outputs": [
        {
          "output_type": "stream",
          "text": [
            "HelloHelloHelloHelloHello\n",
            "HelloHelloHelloHelloHelloHelloHelloHello\n",
            "HelloHelloHello\n",
            "HelloHelloHelloHello\n",
            "HelloHelloHelloHelloHelloHelloHello\n"
          ],
          "name": "stdout"
        }
      ]
    },
    {
      "cell_type": "code",
      "metadata": {
        "id": "BsqUBAMPJkZo",
        "colab_type": "code",
        "colab": {
          "base_uri": "https://localhost:8080/",
          "height": 88
        },
        "outputId": "77125ebc-b9b8-42e5-ba44-b8c68846cd60"
      },
      "source": [
        "def function4(arg1 = 111, arg2 = 222, arg3 = 333):\n",
        "    print(\"arg1 =\",arg1, \"ag2 =\",arg2, \"arg3 =\",arg3)\n",
        "\n",
        "function4(100,200,300)\n",
        "function4(100,200)\n",
        "function4()\n",
        "function4(arg3=300,arg1=100)"
      ],
      "execution_count": 11,
      "outputs": [
        {
          "output_type": "stream",
          "text": [
            "arg1 = 100 ag2 = 200 arg3 = 300\n",
            "arg1 = 100 ag2 = 200 arg3 = 333\n",
            "arg1 = 111 ag2 = 222 arg3 = 333\n",
            "arg1 = 100 ag2 = 222 arg3 = 300\n"
          ],
          "name": "stdout"
        }
      ]
    },
    {
      "cell_type": "code",
      "metadata": {
        "id": "xN0TaDnhJkZr",
        "colab_type": "code",
        "colab": {}
      },
      "source": [
        "# Assessment - 30 Marks - Time 30 Minutes"
      ],
      "execution_count": 0,
      "outputs": []
    }
  ]
}