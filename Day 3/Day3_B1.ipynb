{
 "cells": [
  {
   "cell_type": "code",
   "execution_count": null,
   "metadata": {},
   "outputs": [],
   "source": [
    "# if....elif....else condition\n",
    "num = 4\n",
    "if num == 1:\n",
    "    print('One')\n",
    "elif num == 2:\n",
    "    print('Two')\n",
    "elif num == 3:\n",
    "    print('Three')\n",
    "else:\n",
    "    print('Something else.')"
   ]
  },
  {
   "cell_type": "code",
   "execution_count": null,
   "metadata": {},
   "outputs": [],
   "source": [
    "# if....elif....else condition with input() function\n",
    "num1 = int(input(\"Please enter the first number -->\"))\n",
    "num2 = int(input(\"Please enter the second number -->\"))\n",
    "num3 = int(input(\"Please enter the third number -->\"))\n",
    "print(\"The maximum number is -->\")\n",
    "if(num1 > num2):\n",
    "    if(num1 > num3):\n",
    "        print(num1)\n",
    "    else:\n",
    "        print(num3)\n",
    "elif(num2 > num3):\n",
    "    print(num2)\n",
    "else:\n",
    "    print(num3)\n",
    "print(\"End of the program....\")\n"
   ]
  },
  {
   "cell_type": "code",
   "execution_count": null,
   "metadata": {},
   "outputs": [],
   "source": [
    "num1 = int(input(\"Please enter the first number -->\"))\n",
    "num2 = int(input(\"Please enter the second number -->\"))\n",
    "num3 = int(input(\"Please enter the third number -->\"))\n",
    "print(\"The maximum number is -->\")\n",
    "if(num1 >= num2 and num1 >= num3):\n",
    "    print(num1)\n",
    "elif(num2 >= num3):\n",
    "    print(num2)\n",
    "else:\n",
    "    print(num3)\n",
    "print(\"End of the program....\")"
   ]
  },
  {
   "cell_type": "code",
   "execution_count": null,
   "metadata": {},
   "outputs": [],
   "source": [
    "print(\"Visit Doctor....\")\n",
    "day = 1\n",
    "medi_count = 0\n",
    "while (day <= 5):\n",
    "    print(\"Good Morning....\")\n",
    "    medi = 1\n",
    "    while (medi <= 3):\n",
    "        print(\"Day number =\",day,\"Medicine number =\",medi)\n",
    "        medi_count += 1\n",
    "        medi += 1\n",
    "    print(\"Good Night....\")\n",
    "    day += 1\n",
    "print(\"Thanks Doctor....\")\n",
    "print(\"So the total medicine count =\",medi_count)"
   ]
  },
  {
   "cell_type": "code",
   "execution_count": null,
   "metadata": {},
   "outputs": [],
   "source": [
    "# Using del keyword\n",
    "a = 10\n",
    "print(a)\n",
    "del a\n",
    "print(a)"
   ]
  },
  {
   "cell_type": "code",
   "execution_count": null,
   "metadata": {},
   "outputs": [],
   "source": [
    "# Using try....raise....except....finally keywords\n",
    "try:\n",
    "    x = 9\n",
    "    raise ZeroDivisionError\n",
    "except ZeroDivisionError:\n",
    "    print(\"Division can not be performed\")\n",
    "finally:\n",
    "    print(\"Executed Successfully....\")"
   ]
  },
  {
   "cell_type": "code",
   "execution_count": null,
   "metadata": {},
   "outputs": [],
   "source": [
    "# Using global variables\n",
    "globvar = 10\n",
    "def read1():\n",
    "    print(globvar)\n",
    "def write1():\n",
    "    global globvar\n",
    "    globvar = 5\n",
    "def write2():\n",
    "    globvar = 15\n",
    "read1()\n",
    "write1()\n",
    "read1()\n",
    "write2()\n",
    "read1()"
   ]
  },
  {
   "cell_type": "code",
   "execution_count": 18,
   "metadata": {},
   "outputs": [
    {
     "name": "stdout",
     "output_type": "stream",
     "text": [
      "Hello Python....\n",
      "Hello World....\n"
     ]
    }
   ],
   "source": [
    "# Function \n",
    "def hello1(): # Without a return statement\n",
    "    print(\"Hello Python....\")\n",
    "def hello2(): # With a return statement\n",
    "    return \"Hello World....\"\n",
    "\n",
    "hello1()\n",
    "print(hello2())    "
   ]
  },
  {
   "cell_type": "code",
   "execution_count": null,
   "metadata": {},
   "outputs": [],
   "source": [
    "def function1():\n",
    "    print(\"Hello\" * 5)\n",
    "def function2(num):\n",
    "    print(\"Hello\" * num)\n",
    "def function3(num):\n",
    "    return (\"Hello\" * num)\n",
    "\n",
    "function1()\n",
    "function2(8)\n",
    "function2(3)\n",
    "str1 = function3(4)\n",
    "print(str1)\n",
    "print(function3(7))"
   ]
  },
  {
   "cell_type": "code",
   "execution_count": 22,
   "metadata": {},
   "outputs": [
    {
     "name": "stdout",
     "output_type": "stream",
     "text": [
      "arg1 = 100 ag2 = 200 arg3 = 300\n",
      "arg1 = 100 ag2 = 200 arg3 = 333\n",
      "arg1 = 111 ag2 = 222 arg3 = 333\n",
      "arg1 = 100 ag2 = 222 arg3 = 300\n"
     ]
    }
   ],
   "source": [
    "def function4(arg1 = 111, arg2 = 222, arg3 = 333):\n",
    "    print(\"arg1 =\",arg1, \"ag2 =\",arg2, \"arg3 =\",arg3)\n",
    "\n",
    "function4(100,200,300)\n",
    "function4(100,200)\n",
    "function4()\n",
    "function4(arg3=300,arg1=100)"
   ]
  },
  {
   "cell_type": "code",
   "execution_count": null,
   "metadata": {},
   "outputs": [],
   "source": [
    "# Assessment - 30 Marks - Time 30 Minutes"
   ]
  }
 ],
 "metadata": {
  "kernelspec": {
   "display_name": "Python 3",
   "language": "python",
   "name": "python3"
  },
  "language_info": {
   "codemirror_mode": {
    "name": "ipython",
    "version": 3
   },
   "file_extension": ".py",
   "mimetype": "text/x-python",
   "name": "python",
   "nbconvert_exporter": "python",
   "pygments_lexer": "ipython3",
   "version": "3.7.3"
  }
 },
 "nbformat": 4,
 "nbformat_minor": 2
}
