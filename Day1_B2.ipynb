{
 "cells": [
  {
   "cell_type": "code",
   "execution_count": 2,
   "metadata": {},
   "outputs": [
    {
     "name": "stdout",
     "output_type": "stream",
     "text": [
      "True\n",
      "False\n"
     ]
    }
   ],
   "source": [
    "# True False\n",
    "print(5 == 5)\n",
    "print(5 > 5)"
   ]
  },
  {
   "cell_type": "code",
   "execution_count": 4,
   "metadata": {},
   "outputs": [
    {
     "name": "stdout",
     "output_type": "stream",
     "text": [
      "False\n",
      "False\n",
      "False\n",
      "True\n",
      "True\n"
     ]
    }
   ],
   "source": [
    "# Identifier\n",
    "print(None == 0)\n",
    "print(None == False)\n",
    "print(None == [])\n",
    "print(None == None)\n",
    "print(None is None)"
   ]
  },
  {
   "cell_type": "code",
   "execution_count": null,
   "metadata": {},
   "outputs": [],
   "source": [
    "# Using and, or, not\n",
    "print(True and False)\n",
    "print(True or False)\n",
    "print(not False)\n",
    "print(True and True)\n",
    "print(True or True)\n",
    "print(not True)"
   ]
  },
  {
   "cell_type": "code",
   "execution_count": 12,
   "metadata": {},
   "outputs": [
    {
     "name": "stdout",
     "output_type": "stream",
     "text": [
      "Sum of 1000 and 2000 is 3000....\n",
      "Sum of 1000 and 2000 is 3000....\n"
     ]
    }
   ],
   "source": [
    "# Addition operations using multiple lines comment\n",
    "num1 = 1000\n",
    "num2 = 2000\n",
    "total = num1 + num2\n",
    "'''print(total)\n",
    "print(\"Doing addition operations....\")'''\n",
    "print(\"Sum of {} and {} is {}....\".format(num1,num2,total))\n",
    "print(\"Sum of {0} and {1} is {2}....\".format(num1,num2,total))"
   ]
  },
  {
   "cell_type": "code",
   "execution_count": 15,
   "metadata": {},
   "outputs": [
    {
     "name": "stdout",
     "output_type": "stream",
     "text": [
      "5 + 2 = 7\n",
      "5 - 2 = 3\n",
      "5 * 2 = 10\n",
      "5 / 2 = 2.5\n",
      "5 // 2 = 2\n",
      "5 ** 2 = 25\n",
      "5 % 2 = 1\n"
     ]
    }
   ],
   "source": [
    "# Arithmetic operators\n",
    "print(\"5 + 2 =\",(5+2)) # Addition\n",
    "print(\"5 - 2 =\",(5-2)) # Subtraction\n",
    "print(\"5 * 2 =\",(5*2)) # Multiplication\n",
    "print(\"5 / 2 =\",(5/2)) # Division\n",
    "print(\"5 // 2 =\",(5//2)) # Integer division\n",
    "print(\"5 ** 2 =\",(5**2)) # Exponentiation\n",
    "print(\"5 % 2 =\",(5%2)) # Modulus"
   ]
  },
  {
   "cell_type": "code",
   "execution_count": 16,
   "metadata": {},
   "outputs": [
    {
     "name": "stdout",
     "output_type": "stream",
     "text": [
      "5 is of type <class 'int'>\n",
      "2.0 is of type <class 'float'>\n",
      "(1+2j) is of type <class 'complex'>\n"
     ]
    }
   ],
   "source": [
    "# Using type() function\n",
    "a = 5\n",
    "print(a, \"is of type\",type(a))\n",
    "a = 2.0\n",
    "print(a, \"is of type\",type(a))\n",
    "a = 1 + 2j\n",
    "print(a, \"is of type\",type(a))"
   ]
  },
  {
   "cell_type": "code",
   "execution_count": 17,
   "metadata": {},
   "outputs": [
    {
     "name": "stdout",
     "output_type": "stream",
     "text": [
      "Data type of num_int: <class 'int'>\n",
      "Data type of num_flo: <class 'float'>\n",
      "Value of num_new: 124.23\n",
      "Data type of num_new: <class 'float'>\n"
     ]
    }
   ],
   "source": [
    "# Implicit Type Conversion\n",
    "num_int=123\n",
    "num_flo=1.23\n",
    "num_new=num_int + num_flo\n",
    "print(\"Data type of num_int:\",type(num_int))\n",
    "print(\"Data type of num_flo:\",type(num_flo))\n",
    "print(\"Value of num_new:\",num_new)\n",
    "print(\"Data type of num_new:\",type(num_new))"
   ]
  },
  {
   "cell_type": "code",
   "execution_count": 18,
   "metadata": {},
   "outputs": [
    {
     "name": "stdout",
     "output_type": "stream",
     "text": [
      "Data type of num_int: <class 'int'>\n",
      "Data type of num_str before Type Casting: <class 'str'>\n",
      "Data type of num_str after Type Casting: <class 'int'>\n",
      "Sum of num_int and num_str: 579\n",
      "Data type of the sum: <class 'int'>\n"
     ]
    }
   ],
   "source": [
    "# Explicit Type Conversion\n",
    "num_int=123\n",
    "num_str=\"456\"\n",
    "print(\"Data type of num_int:\",type(num_int))\n",
    "print(\"Data type of num_str before Type Casting:\",type(num_str))\n",
    "num_str = int(num_str)\n",
    "print(\"Data type of num_str after Type Casting:\",type(num_str))\n",
    "num_sum = num_int + num_str\n",
    "print(\"Sum of num_int and num_str:\",num_sum)\n",
    "print(\"Data type of the sum:\",type(num_sum))"
   ]
  },
  {
   "cell_type": "code",
   "execution_count": null,
   "metadata": {},
   "outputs": [],
   "source": [
    "# Comparison operators\n",
    "x = 10\n",
    "y = 12\n",
    "\n",
    "print('x > y is',x>y)\n",
    "print('x < y is',x<y)\n",
    "print('x == y is',x==y)\n",
    "print('x != y is',x!=y)\n",
    "print('x >= y is',x>=y)\n",
    "print('x <= y is',x<=y)"
   ]
  },
  {
   "cell_type": "code",
   "execution_count": null,
   "metadata": {},
   "outputs": [],
   "source": [
    "# Logical operators\n",
    "x = True\n",
    "y = False\n",
    "print('x and y is',x and y)\n",
    "print('x or y is',x or y)\n",
    "print('not x is',not x)\n",
    "print('not y is',not y)"
   ]
  },
  {
   "cell_type": "code",
   "execution_count": 23,
   "metadata": {},
   "outputs": [
    {
     "name": "stdout",
     "output_type": "stream",
     "text": [
      "True\n",
      "True\n",
      "True\n",
      "False\n"
     ]
    }
   ],
   "source": [
    "# Membership operators\n",
    "x = 'Hello World'\n",
    "y = {1:'a',2:'b'}\n",
    "print('H' in x)\n",
    "print('hello' not in x)\n",
    "print(1 in y)\n",
    "print('a' in y)"
   ]
  },
  {
   "cell_type": "code",
   "execution_count": null,
   "metadata": {},
   "outputs": [],
   "source": [
    "# Identity operators\n",
    "x1 = 5\n",
    "y1 = 5\n",
    "x2 = 'Hello'\n",
    "y2 = 'hello'\n",
    "x3 = [1,2,3]\n",
    "y3 = [1,2,3]\n",
    "print(x1 is not y1)\n",
    "print(x2 is y2)\n",
    "print(x3 is y3)"
   ]
  },
  {
   "cell_type": "code",
   "execution_count": 30,
   "metadata": {},
   "outputs": [
    {
     "name": "stdout",
     "output_type": "stream",
     "text": [
      "0\n",
      "14\n",
      "-11\n",
      "14\n",
      "0\n",
      "160\n"
     ]
    }
   ],
   "source": [
    "# Bitwise operators\n",
    "x = 10 # 0000 1010\n",
    "y = 4 # 0000 0100\n",
    "print(x & y) # Bitwise AND\n",
    "print(x | y) # Bitwise OR\n",
    "print(~x) # Bitwise NOT\n",
    "print(x ^ y) # Bitwise XOR\n",
    "print(x >> y) # Bitwise right shift\n",
    "print(x << y) # Bitwise left shift"
   ]
  },
  {
   "cell_type": "code",
   "execution_count": null,
   "metadata": {},
   "outputs": [],
   "source": [
    "# While loop\n",
    "i = 1\n",
    "while i <= 8:\n",
    "    print(\"Executing for i =\",i)\n",
    "i += 2\n",
    "print(\"Finally i =\",i)\n",
    "print(\"End of the program....\")\n",
    "    "
   ]
  },
  {
   "cell_type": "code",
   "execution_count": null,
   "metadata": {},
   "outputs": [],
   "source": []
  }
 ],
 "metadata": {
  "kernelspec": {
   "display_name": "Python 3",
   "language": "python",
   "name": "python3"
  },
  "language_info": {
   "codemirror_mode": {
    "name": "ipython",
    "version": 3
   },
   "file_extension": ".py",
   "mimetype": "text/x-python",
   "name": "python",
   "nbconvert_exporter": "python",
   "pygments_lexer": "ipython3",
   "version": "3.7.3"
  }
 },
 "nbformat": 4,
 "nbformat_minor": 2
}
