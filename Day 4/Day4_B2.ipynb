{
  "nbformat": 4,
  "nbformat_minor": 0,
  "metadata": {
    "colab": {
      "name": "Day4_B2.ipynb",
      "version": "0.3.2",
      "provenance": []
    },
    "language_info": {
      "codemirror_mode": {
        "name": "ipython",
        "version": 3
      },
      "file_extension": ".py",
      "mimetype": "text/x-python",
      "name": "python",
      "nbconvert_exporter": "python",
      "pygments_lexer": "ipython3",
      "version": "3.7.3"
    },
    "kernelspec": {
      "display_name": "Python 3",
      "language": "python",
      "name": "python3"
    }
  },
  "cells": [
    {
      "cell_type": "code",
      "metadata": {
        "id": "r9IAzutTZW9y",
        "colab_type": "code",
        "colab": {
          "base_uri": "https://localhost:8080/",
          "height": 35
        },
        "outputId": "70b33d55-d5b0-4422-96dc-0457b3ec3e4f"
      },
      "source": [
        "# File operation using with keyword\n",
        "with open('test.txt','w') as my_file:\n",
        "    my_file.write('Hello World....Hello Python....')\n",
        "    my_file.close()\n",
        "    \n",
        "with open('test.txt','r') as my_file:\n",
        "    str1 = my_file.read()\n",
        "    print(str1)\n",
        "my_file.close()"
      ],
      "execution_count": 1,
      "outputs": [
        {
          "output_type": "stream",
          "text": [
            "Hello World....Hello Python....\n"
          ],
          "name": "stdout"
        }
      ]
    },
    {
      "cell_type": "code",
      "metadata": {
        "id": "gYV4MsuCZW95",
        "colab_type": "code",
        "colab": {
          "base_uri": "https://localhost:8080/",
          "height": 106
        },
        "outputId": "2d3eb93e-f10d-4adf-b582-234e75ab81b2"
      },
      "source": [
        "# Lambda function\n",
        "a = lambda x: x * 2\n",
        "for i in range(1,6):\n",
        "    print(i,a(i))"
      ],
      "execution_count": 2,
      "outputs": [
        {
          "output_type": "stream",
          "text": [
            "1 2\n",
            "2 4\n",
            "3 6\n",
            "4 8\n",
            "5 10\n"
          ],
          "name": "stdout"
        }
      ]
    },
    {
      "cell_type": "code",
      "metadata": {
        "id": "wJTKPp9GZW97",
        "colab_type": "code",
        "colab": {
          "base_uri": "https://localhost:8080/",
          "height": 35
        },
        "outputId": "a2f55157-e640-4c0e-ca2d-a59094f03f1a"
      },
      "source": [
        "# Addition of two numbers using lambda\n",
        "addition = lambda num1,num2: num1 + num2\n",
        "print(addition(50,60))"
      ],
      "execution_count": 3,
      "outputs": [
        {
          "output_type": "stream",
          "text": [
            "110\n"
          ],
          "name": "stdout"
        }
      ]
    },
    {
      "cell_type": "code",
      "metadata": {
        "id": "MdqpV5BiZW99",
        "colab_type": "code",
        "colab": {
          "base_uri": "https://localhost:8080/",
          "height": 35
        },
        "outputId": "8e325259-0488-4e7d-d449-27eacebdea39"
      },
      "source": [
        "# Square of numbers using lambda\n",
        "square = lambda num1: num1 * num1\n",
        "print(square(5))"
      ],
      "execution_count": 4,
      "outputs": [
        {
          "output_type": "stream",
          "text": [
            "25\n"
          ],
          "name": "stdout"
        }
      ]
    },
    {
      "cell_type": "code",
      "metadata": {
        "id": "rXa55kqZZW9_",
        "colab_type": "code",
        "colab": {
          "base_uri": "https://localhost:8080/",
          "height": 53
        },
        "outputId": "f2580a1a-3071-4987-fa48-be138a2e41ea"
      },
      "source": [
        "# String operation\n",
        "str = \"kolaghat\"\n",
        "print(str)\n",
        "print(str[0:3],str[0:6],str[:6],str[:-4])"
      ],
      "execution_count": 5,
      "outputs": [
        {
          "output_type": "stream",
          "text": [
            "kolaghat\n",
            "kol kolagh kolagh kola\n"
          ],
          "name": "stdout"
        }
      ]
    },
    {
      "cell_type": "code",
      "metadata": {
        "id": "aFnQRqoKZW-B",
        "colab_type": "code",
        "colab": {
          "base_uri": "https://localhost:8080/",
          "height": 177
        },
        "outputId": "46bb420e-4f56-44ca-d629-ed85d0f6593d"
      },
      "source": [
        "# String operation\n",
        "str = \"batanagar\"\n",
        "for i in str:\n",
        "    print(i)"
      ],
      "execution_count": 6,
      "outputs": [
        {
          "output_type": "stream",
          "text": [
            "b\n",
            "a\n",
            "t\n",
            "a\n",
            "n\n",
            "a\n",
            "g\n",
            "a\n",
            "r\n"
          ],
          "name": "stdout"
        }
      ]
    },
    {
      "cell_type": "code",
      "metadata": {
        "id": "Vb2GHgUPZW-D",
        "colab_type": "code",
        "colab": {
          "base_uri": "https://localhost:8080/",
          "height": 88
        },
        "outputId": "ccce3e37-e756-436e-8103-9abaa6f9bdee"
      },
      "source": [
        "# String operation\n",
        "str = \"bATanAGAr koLAghAT\"\n",
        "print(str)\n",
        "print(str.upper())\n",
        "print(str.lower())\n",
        "print(str.capitalize())"
      ],
      "execution_count": 7,
      "outputs": [
        {
          "output_type": "stream",
          "text": [
            "bATanAGAr koLAghAT\n",
            "BATANAGAR KOLAGHAT\n",
            "batanagar kolaghat\n",
            "Batanagar kolaghat\n"
          ],
          "name": "stdout"
        }
      ]
    },
    {
      "cell_type": "code",
      "metadata": {
        "id": "HtKqofogZW-F",
        "colab_type": "code",
        "colab": {
          "base_uri": "https://localhost:8080/",
          "height": 88
        },
        "outputId": "1f21ae59-660b-4594-b95a-76cb60fc267f"
      },
      "source": [
        "# String operation\n",
        "str1 = \"1234\"\n",
        "str2 = \"abcd\"\n",
        "print(str1)\n",
        "print(str2)\n",
        "print(str1.isalnum(),str1.isalpha(),str1.isdigit())\n",
        "print(str2.isalnum(),str2.isalpha(),str2.isdigit())"
      ],
      "execution_count": 8,
      "outputs": [
        {
          "output_type": "stream",
          "text": [
            "1234\n",
            "abcd\n",
            "True False True\n",
            "True True False\n"
          ],
          "name": "stdout"
        }
      ]
    },
    {
      "cell_type": "code",
      "metadata": {
        "id": "qauidqBXZW-L",
        "colab_type": "code",
        "colab": {
          "base_uri": "https://localhost:8080/",
          "height": 88
        },
        "outputId": "92edad30-e01c-4289-bed1-99ecde74a21f"
      },
      "source": [
        "# String operation\n",
        "str = \"good morning\"\n",
        "print(str)\n",
        "print(len(str))\n",
        "str = str.replace(\"morning\",\"night\")\n",
        "print(str)\n",
        "print(len(str))"
      ],
      "execution_count": 9,
      "outputs": [
        {
          "output_type": "stream",
          "text": [
            "good morning\n",
            "12\n",
            "good night\n",
            "10\n"
          ],
          "name": "stdout"
        }
      ]
    },
    {
      "cell_type": "code",
      "metadata": {
        "id": "GehBIRZ_ZW-O",
        "colab_type": "code",
        "colab": {
          "base_uri": "https://localhost:8080/",
          "height": 53
        },
        "outputId": "327d4bc5-8a02-4215-aa66-b7c56cef6f9f"
      },
      "source": [
        "# String operation\n",
        "str = \"kolkata is a clean and green city\"\n",
        "print(str)\n",
        "str1 = str.split()\n",
        "print(str1)"
      ],
      "execution_count": 10,
      "outputs": [
        {
          "output_type": "stream",
          "text": [
            "kolkata is a clean and green city\n",
            "['kolkata', 'is', 'a', 'clean', 'and', 'green', 'city']\n"
          ],
          "name": "stdout"
        }
      ]
    },
    {
      "cell_type": "code",
      "metadata": {
        "id": "US0ULdIJZW-Q",
        "colab_type": "code",
        "colab": {
          "base_uri": "https://localhost:8080/",
          "height": 453
        },
        "outputId": "3f896d68-efc9-4d11-c840-94aecf300d7c"
      },
      "source": [
        "# List operation\n",
        "grocery_list = [\"juice\",\"potatoes\",\"bananas\",\"apples\"]\n",
        "data1 = [1,2,3,4]\n",
        "print(grocery_list)\n",
        "print(data1)\n",
        "print(grocery_list[0])\n",
        "print(grocery_list[0:3])\n",
        "print(grocery_list[1:3])\n",
        "print(data1[0])\n",
        "print(len(data1))\n",
        "print(len(grocery_list))\n",
        "grocery_list.append(\"onion\")\n",
        "print(grocery_list)\n",
        "grocery_list.insert(1,\"pickle\")\n",
        "print(grocery_list)\n",
        "grocery_list.remove(\"pickle\")\n",
        "print(grocery_list)\n",
        "grocery_list.sort()\n",
        "print(grocery_list)\n",
        "grocery_list.reverse()\n",
        "print(grocery_list)\n",
        "del grocery_list[2]\n",
        "print(grocery_list)\n",
        "del grocery_list\n",
        "print(grocery_list)"
      ],
      "execution_count": 12,
      "outputs": [
        {
          "output_type": "stream",
          "text": [
            "['juice', 'potatoes', 'bananas', 'apples']\n",
            "[1, 2, 3, 4]\n",
            "juice\n",
            "['juice', 'potatoes', 'bananas']\n",
            "['potatoes', 'bananas']\n",
            "1\n",
            "4\n",
            "4\n",
            "['juice', 'potatoes', 'bananas', 'apples', 'onion']\n",
            "['juice', 'pickle', 'potatoes', 'bananas', 'apples', 'onion']\n",
            "['juice', 'potatoes', 'bananas', 'apples', 'onion']\n",
            "['apples', 'bananas', 'juice', 'onion', 'potatoes']\n",
            "['potatoes', 'onion', 'juice', 'bananas', 'apples']\n",
            "['potatoes', 'onion', 'bananas', 'apples']\n"
          ],
          "name": "stdout"
        },
        {
          "output_type": "error",
          "ename": "NameError",
          "evalue": "ignored",
          "traceback": [
            "\u001b[0;31m---------------------------------------------------------------------------\u001b[0m",
            "\u001b[0;31mNameError\u001b[0m                                 Traceback (most recent call last)",
            "\u001b[0;32m<ipython-input-12-c393dcf146d5>\u001b[0m in \u001b[0;36m<module>\u001b[0;34m()\u001b[0m\n\u001b[1;32m     22\u001b[0m \u001b[0mprint\u001b[0m\u001b[0;34m(\u001b[0m\u001b[0mgrocery_list\u001b[0m\u001b[0;34m)\u001b[0m\u001b[0;34m\u001b[0m\u001b[0;34m\u001b[0m\u001b[0m\n\u001b[1;32m     23\u001b[0m \u001b[0;32mdel\u001b[0m \u001b[0mgrocery_list\u001b[0m\u001b[0;34m\u001b[0m\u001b[0;34m\u001b[0m\u001b[0m\n\u001b[0;32m---> 24\u001b[0;31m \u001b[0mprint\u001b[0m\u001b[0;34m(\u001b[0m\u001b[0mgrocery_list\u001b[0m\u001b[0;34m)\u001b[0m\u001b[0;34m\u001b[0m\u001b[0;34m\u001b[0m\u001b[0m\n\u001b[0m",
            "\u001b[0;31mNameError\u001b[0m: name 'grocery_list' is not defined"
          ]
        }
      ]
    },
    {
      "cell_type": "code",
      "metadata": {
        "id": "o1nZHfqWZW-S",
        "colab_type": "code",
        "colab": {
          "base_uri": "https://localhost:8080/",
          "height": 159
        },
        "outputId": "bd1f7700-98fa-4308-fe00-3f284e12d85c"
      },
      "source": [
        "# List operation\n",
        "list1 = [\"Welcome\",10,20]\n",
        "list2 = [100,400,200,300]\n",
        "print(list1)\n",
        "print(list2)\n",
        "print(\"Length:\",len(list2))\n",
        "print(\"Maximum element:\",max(list2))\n",
        "print(\"Minimum element:\",min(list2))\n",
        "print(\"Total:\",sum(list2))\n",
        "print(\"Average:\",sum(list2)/len(list2))\n",
        "list2.extend([500,600,700,800])\n",
        "print(list2)"
      ],
      "execution_count": 13,
      "outputs": [
        {
          "output_type": "stream",
          "text": [
            "['Welcome', 10, 20]\n",
            "[100, 400, 200, 300]\n",
            "Length: 4\n",
            "Maximum element: 400\n",
            "Minimum element: 100\n",
            "Total: 1000\n",
            "Average: 250.0\n",
            "[100, 400, 200, 300, 500, 600, 700, 800]\n"
          ],
          "name": "stdout"
        }
      ]
    },
    {
      "cell_type": "code",
      "metadata": {
        "id": "c1RAB6B0ZW-U",
        "colab_type": "code",
        "colab": {
          "base_uri": "https://localhost:8080/",
          "height": 88
        },
        "outputId": "1a3eb77a-b993-49fd-d3a5-21f26e0a1e56"
      },
      "source": [
        "# Tuple operation\n",
        "tuple1 = (1,2,\"arip\",\"male\",22)\n",
        "tuple2 = (1,2,3,4)\n",
        "print(tuple1)\n",
        "print(tuple2)\n",
        "print(len(tuple1))\n",
        "print(len(tuple2),max(tuple2),min(tuple2),sum(tuple2))"
      ],
      "execution_count": 14,
      "outputs": [
        {
          "output_type": "stream",
          "text": [
            "(1, 2, 'arip', 'male', 22)\n",
            "(1, 2, 3, 4)\n",
            "5\n",
            "4 4 1 10\n"
          ],
          "name": "stdout"
        }
      ]
    },
    {
      "cell_type": "code",
      "metadata": {
        "id": "DxQTzkhpZW-W",
        "colab_type": "code",
        "colab": {
          "base_uri": "https://localhost:8080/",
          "height": 35
        },
        "outputId": "eb141ce7-bc02-4dbb-992e-d8b38162d7bd"
      },
      "source": [
        "# Array operation\n",
        "import numpy as np\n",
        "data1 = [1,2,3,4,5,6] # List\n",
        "arr1 = np.array(data1) # 1d array\n",
        "print(arr1)"
      ],
      "execution_count": 15,
      "outputs": [
        {
          "output_type": "stream",
          "text": [
            "[1 2 3 4 5 6]\n"
          ],
          "name": "stdout"
        }
      ]
    }
  ]
}