{
  "nbformat": 4,
  "nbformat_minor": 0,
  "metadata": {
    "colab": {
      "name": "Day4_B1.ipynb",
      "version": "0.3.2",
      "provenance": []
    },
    "language_info": {
      "codemirror_mode": {
        "name": "ipython",
        "version": 3
      },
      "file_extension": ".py",
      "mimetype": "text/x-python",
      "name": "python",
      "nbconvert_exporter": "python",
      "pygments_lexer": "ipython3",
      "version": "3.7.3"
    },
    "kernelspec": {
      "display_name": "Python 3",
      "language": "python",
      "name": "python3"
    }
  },
  "cells": [
    {
      "cell_type": "code",
      "metadata": {
        "id": "MRJAg5jEYomT",
        "colab_type": "code",
        "colab": {
          "base_uri": "https://localhost:8080/",
          "height": 35
        },
        "outputId": "e39716a6-221e-482e-b648-95bf7d854ae4"
      },
      "source": [
        "# File operation using with keyword\n",
        "with open('test.txt','w') as my_file:\n",
        "    my_file.write('Hello World....Hello Python....')\n",
        "    my_file.close()\n",
        "    \n",
        "with open('test.txt','r') as my_file:\n",
        "    str1 = my_file.read()\n",
        "    print(str1)\n",
        "my_file.close()"
      ],
      "execution_count": 1,
      "outputs": [
        {
          "output_type": "stream",
          "text": [
            "Hello World....Hello Python....\n"
          ],
          "name": "stdout"
        }
      ]
    },
    {
      "cell_type": "code",
      "metadata": {
        "id": "9l711Ob3YomW",
        "colab_type": "code",
        "colab": {
          "base_uri": "https://localhost:8080/",
          "height": 106
        },
        "outputId": "f9a3893d-0396-40d8-ba00-29bb9a7763dd"
      },
      "source": [
        "# Lambda function\n",
        "a = lambda x: x * 2\n",
        "for i in range(1,6):\n",
        "    print(i,a(i))"
      ],
      "execution_count": 2,
      "outputs": [
        {
          "output_type": "stream",
          "text": [
            "1 2\n",
            "2 4\n",
            "3 6\n",
            "4 8\n",
            "5 10\n"
          ],
          "name": "stdout"
        }
      ]
    },
    {
      "cell_type": "code",
      "metadata": {
        "id": "AdOBUmBFYomY",
        "colab_type": "code",
        "colab": {
          "base_uri": "https://localhost:8080/",
          "height": 35
        },
        "outputId": "77c1b36a-9314-4d56-f926-5272d2c1b05f"
      },
      "source": [
        "# Addition of two numbers using lambda\n",
        "addition = lambda num1,num2: num1 + num2\n",
        "print(addition(50,60))"
      ],
      "execution_count": 3,
      "outputs": [
        {
          "output_type": "stream",
          "text": [
            "110\n"
          ],
          "name": "stdout"
        }
      ]
    },
    {
      "cell_type": "code",
      "metadata": {
        "id": "OmCkCxL_Yoma",
        "colab_type": "code",
        "colab": {
          "base_uri": "https://localhost:8080/",
          "height": 35
        },
        "outputId": "7629d8e4-e997-4866-8628-ce7d4dc20b75"
      },
      "source": [
        "# Square of numbers using lambda\n",
        "square = lambda num1: num1 * num1\n",
        "print(square(5))"
      ],
      "execution_count": 4,
      "outputs": [
        {
          "output_type": "stream",
          "text": [
            "25\n"
          ],
          "name": "stdout"
        }
      ]
    },
    {
      "cell_type": "code",
      "metadata": {
        "id": "rO-p5lmwYomc",
        "colab_type": "code",
        "colab": {
          "base_uri": "https://localhost:8080/",
          "height": 53
        },
        "outputId": "d1ab4337-25c2-41db-a9b8-cf5c986f2b42"
      },
      "source": [
        "# String operation\n",
        "str = \"kolaghat\"\n",
        "print(str)\n",
        "print(str[0:3],str[0:6],str[:6],str[:-4])"
      ],
      "execution_count": 5,
      "outputs": [
        {
          "output_type": "stream",
          "text": [
            "kolaghat\n",
            "kol kolagh kolagh kola\n"
          ],
          "name": "stdout"
        }
      ]
    },
    {
      "cell_type": "code",
      "metadata": {
        "id": "xvJWFZzMYome",
        "colab_type": "code",
        "colab": {
          "base_uri": "https://localhost:8080/",
          "height": 177
        },
        "outputId": "3d73cb64-2f5e-44c1-c395-9bdea14545e8"
      },
      "source": [
        "# String operation\n",
        "str = \"batanagar\"\n",
        "for i in str:\n",
        "    print(i)"
      ],
      "execution_count": 6,
      "outputs": [
        {
          "output_type": "stream",
          "text": [
            "b\n",
            "a\n",
            "t\n",
            "a\n",
            "n\n",
            "a\n",
            "g\n",
            "a\n",
            "r\n"
          ],
          "name": "stdout"
        }
      ]
    },
    {
      "cell_type": "code",
      "metadata": {
        "id": "FVWJSTkpYomg",
        "colab_type": "code",
        "colab": {
          "base_uri": "https://localhost:8080/",
          "height": 88
        },
        "outputId": "8ec3e43b-2c7c-4a09-9352-aac7e9c9b22d"
      },
      "source": [
        "# String operation\n",
        "str = \"bATanAGAr koLAghAT\"\n",
        "print(str)\n",
        "print(str.upper())\n",
        "print(str.lower())\n",
        "print(str.capitalize())"
      ],
      "execution_count": 7,
      "outputs": [
        {
          "output_type": "stream",
          "text": [
            "bATanAGAr koLAghAT\n",
            "BATANAGAR KOLAGHAT\n",
            "batanagar kolaghat\n",
            "Batanagar kolaghat\n"
          ],
          "name": "stdout"
        }
      ]
    },
    {
      "cell_type": "code",
      "metadata": {
        "id": "dyLC0FpUYomi",
        "colab_type": "code",
        "colab": {
          "base_uri": "https://localhost:8080/",
          "height": 88
        },
        "outputId": "dc0f79f9-22c1-4a92-c26e-2db75b4b2dbc"
      },
      "source": [
        "# String operation\n",
        "str1 = \"1234\"\n",
        "str2 = \"abcd\"\n",
        "print(str1)\n",
        "print(str2)\n",
        "print(str1.isalnum(),str1.isalpha(),str1.isdigit())\n",
        "print(str2.isalnum(),str2.isalpha(),str2.isdigit())"
      ],
      "execution_count": 8,
      "outputs": [
        {
          "output_type": "stream",
          "text": [
            "1234\n",
            "abcd\n",
            "True False True\n",
            "True True False\n"
          ],
          "name": "stdout"
        }
      ]
    },
    {
      "cell_type": "code",
      "metadata": {
        "id": "5EAAf7WeYomk",
        "colab_type": "code",
        "colab": {
          "base_uri": "https://localhost:8080/",
          "height": 88
        },
        "outputId": "028e7bc6-baee-4c22-e744-68e7a8c0b728"
      },
      "source": [
        "# String operation\n",
        "str = \"good morning\"\n",
        "print(str)\n",
        "print(len(str))\n",
        "str = str.replace(\"morning\",\"night\")\n",
        "print(str)\n",
        "print(len(str))"
      ],
      "execution_count": 9,
      "outputs": [
        {
          "output_type": "stream",
          "text": [
            "good morning\n",
            "12\n",
            "good night\n",
            "10\n"
          ],
          "name": "stdout"
        }
      ]
    },
    {
      "cell_type": "code",
      "metadata": {
        "id": "9KieqKmKYomm",
        "colab_type": "code",
        "colab": {
          "base_uri": "https://localhost:8080/",
          "height": 53
        },
        "outputId": "ebb92d19-4cd7-449b-f46d-ae0ef11c9192"
      },
      "source": [
        "# String operation\n",
        "str = \"kolkata is a clean and green city\"\n",
        "print(str)\n",
        "str1 = str.split()\n",
        "print(str1)"
      ],
      "execution_count": 10,
      "outputs": [
        {
          "output_type": "stream",
          "text": [
            "kolkata is a clean and green city\n",
            "['kolkata', 'is', 'a', 'clean', 'and', 'green', 'city']\n"
          ],
          "name": "stdout"
        }
      ]
    },
    {
      "cell_type": "code",
      "metadata": {
        "id": "MjxOcoDxYomo",
        "colab_type": "code",
        "colab": {
          "base_uri": "https://localhost:8080/",
          "height": 453
        },
        "outputId": "d70ab131-6657-43c6-cbcc-c49d03df4444"
      },
      "source": [
        "# List operation\n",
        "grocery_list = [\"juice\",\"potatoes\",\"bananas\",\"apples\"]\n",
        "data1 = [1,2,3,4]\n",
        "print(grocery_list)\n",
        "print(data1)\n",
        "print(grocery_list[0])\n",
        "print(grocery_list[0:3])\n",
        "print(grocery_list[1:3])\n",
        "print(data1[0])\n",
        "print(len(data1))\n",
        "print(len(grocery_list))\n",
        "grocery_list.append(\"onion\")\n",
        "print(grocery_list)\n",
        "grocery_list.insert(1,\"pickle\")\n",
        "print(grocery_list)\n",
        "grocery_list.remove(\"pickle\")\n",
        "print(grocery_list)\n",
        "grocery_list.sort()\n",
        "print(grocery_list)\n",
        "grocery_list.reverse()\n",
        "print(grocery_list)\n",
        "del grocery_list[2]\n",
        "print(grocery_list)\n",
        "del grocery_list\n",
        "print(grocery_list)"
      ],
      "execution_count": 11,
      "outputs": [
        {
          "output_type": "stream",
          "text": [
            "['juice', 'potatoes', 'bananas', 'apples']\n",
            "[1, 2, 3, 4]\n",
            "juice\n",
            "['juice', 'potatoes', 'bananas']\n",
            "['potatoes', 'bananas']\n",
            "1\n",
            "4\n",
            "4\n",
            "['juice', 'potatoes', 'bananas', 'apples', 'onion']\n",
            "['juice', 'pickle', 'potatoes', 'bananas', 'apples', 'onion']\n",
            "['juice', 'potatoes', 'bananas', 'apples', 'onion']\n",
            "['apples', 'bananas', 'juice', 'onion', 'potatoes']\n",
            "['potatoes', 'onion', 'juice', 'bananas', 'apples']\n",
            "['potatoes', 'onion', 'bananas', 'apples']\n"
          ],
          "name": "stdout"
        },
        {
          "output_type": "error",
          "ename": "NameError",
          "evalue": "ignored",
          "traceback": [
            "\u001b[0;31m---------------------------------------------------------------------------\u001b[0m",
            "\u001b[0;31mNameError\u001b[0m                                 Traceback (most recent call last)",
            "\u001b[0;32m<ipython-input-11-c393dcf146d5>\u001b[0m in \u001b[0;36m<module>\u001b[0;34m()\u001b[0m\n\u001b[1;32m     22\u001b[0m \u001b[0mprint\u001b[0m\u001b[0;34m(\u001b[0m\u001b[0mgrocery_list\u001b[0m\u001b[0;34m)\u001b[0m\u001b[0;34m\u001b[0m\u001b[0;34m\u001b[0m\u001b[0m\n\u001b[1;32m     23\u001b[0m \u001b[0;32mdel\u001b[0m \u001b[0mgrocery_list\u001b[0m\u001b[0;34m\u001b[0m\u001b[0;34m\u001b[0m\u001b[0m\n\u001b[0;32m---> 24\u001b[0;31m \u001b[0mprint\u001b[0m\u001b[0;34m(\u001b[0m\u001b[0mgrocery_list\u001b[0m\u001b[0;34m)\u001b[0m\u001b[0;34m\u001b[0m\u001b[0;34m\u001b[0m\u001b[0m\n\u001b[0m",
            "\u001b[0;31mNameError\u001b[0m: name 'grocery_list' is not defined"
          ]
        }
      ]
    },
    {
      "cell_type": "code",
      "metadata": {
        "id": "G9X9SJvyYomq",
        "colab_type": "code",
        "colab": {
          "base_uri": "https://localhost:8080/",
          "height": 159
        },
        "outputId": "c31cb521-a511-419d-b454-75ec0b5902d3"
      },
      "source": [
        "# List operation\n",
        "list1 = [\"Welcome\",10,20]\n",
        "list2 = [100,400,200,300]\n",
        "print(list1)\n",
        "print(list2)\n",
        "print(\"Length:\",len(list2))\n",
        "print(\"Maximum element:\",max(list2))\n",
        "print(\"Minimum element:\",min(list2))\n",
        "print(\"Total:\",sum(list2))\n",
        "print(\"Average:\",sum(list2)/len(list2))\n",
        "list2.extend([500,600,700,800])\n",
        "print(list2)"
      ],
      "execution_count": 12,
      "outputs": [
        {
          "output_type": "stream",
          "text": [
            "['Welcome', 10, 20]\n",
            "[100, 400, 200, 300]\n",
            "Length: 4\n",
            "Maximum element: 400\n",
            "Minimum element: 100\n",
            "Total: 1000\n",
            "Average: 250.0\n",
            "[100, 400, 200, 300, 500, 600, 700, 800]\n"
          ],
          "name": "stdout"
        }
      ]
    },
    {
      "cell_type": "code",
      "metadata": {
        "id": "5oQhL45vYoms",
        "colab_type": "code",
        "colab": {
          "base_uri": "https://localhost:8080/",
          "height": 88
        },
        "outputId": "513b5e6a-4700-415f-8d38-697d8d5270a6"
      },
      "source": [
        "# Tuple operation\n",
        "tuple1 = (1,2,\"arip\",\"male\",22)\n",
        "tuple2 = (1,2,3,4)\n",
        "print(tuple1)\n",
        "print(tuple2)\n",
        "print(len(tuple1))\n",
        "print(len(tuple2),max(tuple2),min(tuple2),sum(tuple2))"
      ],
      "execution_count": 13,
      "outputs": [
        {
          "output_type": "stream",
          "text": [
            "(1, 2, 'arip', 'male', 22)\n",
            "(1, 2, 3, 4)\n",
            "5\n",
            "4 4 1 10\n"
          ],
          "name": "stdout"
        }
      ]
    },
    {
      "cell_type": "code",
      "metadata": {
        "id": "nGkmqUPpYomu",
        "colab_type": "code",
        "colab": {
          "base_uri": "https://localhost:8080/",
          "height": 35
        },
        "outputId": "bb1fc65d-f914-4a34-b62a-ae0e190b7cb6"
      },
      "source": [
        "# Array operation\n",
        "import numpy as np\n",
        "data1 = [1,2,3,4,5,6] # List\n",
        "arr1 = np.array(data1) # 1d array\n",
        "print(arr1)"
      ],
      "execution_count": 14,
      "outputs": [
        {
          "output_type": "stream",
          "text": [
            "[1 2 3 4 5 6]\n"
          ],
          "name": "stdout"
        }
      ]
    }
  ]
}