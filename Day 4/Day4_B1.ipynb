{
 "cells": [
  {
   "cell_type": "code",
   "execution_count": null,
   "metadata": {},
   "outputs": [],
   "source": [
    "# File operation using with keyword\n",
    "with open('test.txt','w') as my_file:\n",
    "    my_file.write('Hello World....Hello Python....')\n",
    "    my_file.close()\n",
    "    \n",
    "with open('test.txt','r') as my_file:\n",
    "    str1 = my_file.read()\n",
    "    print(str1)\n",
    "my_file.close()"
   ]
  },
  {
   "cell_type": "code",
   "execution_count": null,
   "metadata": {},
   "outputs": [],
   "source": [
    "# Lambda function\n",
    "a = lambda x: x * 2\n",
    "for i in range(1,6):\n",
    "    print(i,a(i))"
   ]
  },
  {
   "cell_type": "code",
   "execution_count": null,
   "metadata": {},
   "outputs": [],
   "source": [
    "# Addition of two numbers using lambda\n",
    "addition = lambda num1,num2: num1 + num2\n",
    "print(addition(50,60))"
   ]
  },
  {
   "cell_type": "code",
   "execution_count": null,
   "metadata": {},
   "outputs": [],
   "source": [
    "# Square of numbers using lambda\n",
    "square = lambda num1: num1 * num1\n",
    "print(square(5))"
   ]
  },
  {
   "cell_type": "code",
   "execution_count": null,
   "metadata": {},
   "outputs": [],
   "source": [
    "# String operation\n",
    "str = \"kolaghat\"\n",
    "print(str)\n",
    "print(str[0:3],str[0:6],str[:6],str[:-4])"
   ]
  },
  {
   "cell_type": "code",
   "execution_count": null,
   "metadata": {},
   "outputs": [],
   "source": [
    "# String operation\n",
    "str = \"batanagar\"\n",
    "for i in str:\n",
    "    print(i)"
   ]
  },
  {
   "cell_type": "code",
   "execution_count": null,
   "metadata": {},
   "outputs": [],
   "source": [
    "# String operation\n",
    "str = \"bATanAGAr koLAghAT\"\n",
    "print(str)\n",
    "print(str.upper())\n",
    "print(str.lower())\n",
    "print(str.capitalize())"
   ]
  },
  {
   "cell_type": "code",
   "execution_count": null,
   "metadata": {},
   "outputs": [],
   "source": [
    "# String operation\n",
    "str1 = \"1234\"\n",
    "str2 = \"abcd\"\n",
    "print(str1)\n",
    "print(str2)\n",
    "print(str1.isalnum(),str1.isalpha(),str1.isdigit())\n",
    "print(str2.isalnum(),str2.isalpha(),str2.isdigit())"
   ]
  },
  {
   "cell_type": "code",
   "execution_count": null,
   "metadata": {},
   "outputs": [],
   "source": [
    "# String operation\n",
    "str = \"good morning\"\n",
    "print(str)\n",
    "print(len(str))\n",
    "str = str.replace(\"morning\",\"night\")\n",
    "print(str)\n",
    "print(len(str))"
   ]
  },
  {
   "cell_type": "code",
   "execution_count": null,
   "metadata": {},
   "outputs": [],
   "source": [
    "# String operation\n",
    "str = \"kolkata is a clean and green city\"\n",
    "print(str)\n",
    "str1 = str.split()\n",
    "print(str1)"
   ]
  },
  {
   "cell_type": "code",
   "execution_count": null,
   "metadata": {},
   "outputs": [],
   "source": [
    "# List operation\n",
    "grocery_list = [\"juice\",\"potatoes\",\"bananas\",\"apples\"]\n",
    "data1 = [1,2,3,4]\n",
    "print(grocery_list)\n",
    "print(data1)\n",
    "print(grocery_list[0])\n",
    "print(grocery_list[0:3])\n",
    "print(grocery_list[1:3])\n",
    "print(data1[0])\n",
    "print(len(data1))\n",
    "print(len(grocery_list))\n",
    "grocery_list.append(\"onion\")\n",
    "print(grocery_list)\n",
    "grocery_list.insert(1,\"pickle\")\n",
    "print(grocery_list)\n",
    "grocery_list.remove(\"pickle\")\n",
    "print(grocery_list)\n",
    "grocery_list.sort()\n",
    "print(grocery_list)\n",
    "grocery_list.reverse()\n",
    "print(grocery_list)\n",
    "del grocery_list[2]\n",
    "print(grocery_list)\n",
    "del grocery_list\n",
    "print(grocery_list)"
   ]
  },
  {
   "cell_type": "code",
   "execution_count": null,
   "metadata": {},
   "outputs": [],
   "source": [
    "# List operation\n",
    "list1 = [\"Welcome\",10,20]\n",
    "list2 = [100,400,200,300]\n",
    "print(list1)\n",
    "print(list2)\n",
    "print(\"Length:\",len(list2))\n",
    "print(\"Maximum element:\",max(list2))\n",
    "print(\"Minimum element:\",min(list2))\n",
    "print(\"Total:\",sum(list2))\n",
    "print(\"Average:\",sum(list2)/len(list2))\n",
    "list2.extend([500,600,700,800])\n",
    "print(list2)"
   ]
  },
  {
   "cell_type": "code",
   "execution_count": null,
   "metadata": {},
   "outputs": [],
   "source": [
    "# Tuple operation\n",
    "tuple1 = (1,2,\"arip\",\"male\",22)\n",
    "tuple2 = (1,2,3,4)\n",
    "print(tuple1)\n",
    "print(tuple2)\n",
    "print(len(tuple1))\n",
    "print(len(tuple2),max(tuple2),min(tuple2),sum(tuple2))"
   ]
  },
  {
   "cell_type": "code",
   "execution_count": null,
   "metadata": {},
   "outputs": [],
   "source": [
    "# Array operation\n",
    "import numpy as np\n",
    "data1 = [1,2,3,4,5,6] # List\n",
    "arr1 = np.array(data1) # 1d array\n",
    "print(arr1)"
   ]
  },
  {
   "cell_type": "code",
   "execution_count": null,
   "metadata": {},
   "outputs": [],
   "source": []
  },
  {
   "cell_type": "code",
   "execution_count": null,
   "metadata": {},
   "outputs": [],
   "source": []
  }
 ],
 "metadata": {
  "kernelspec": {
   "display_name": "Python 3",
   "language": "python",
   "name": "python3"
  },
  "language_info": {
   "codemirror_mode": {
    "name": "ipython",
    "version": 3
   },
   "file_extension": ".py",
   "mimetype": "text/x-python",
   "name": "python",
   "nbconvert_exporter": "python",
   "pygments_lexer": "ipython3",
   "version": "3.7.3"
  }
 },
 "nbformat": 4,
 "nbformat_minor": 2
}
