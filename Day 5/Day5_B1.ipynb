{
 "cells": [
  {
   "cell_type": "code",
   "execution_count": null,
   "metadata": {},
   "outputs": [],
   "source": [
    "# Dictionary operation\n",
    "dict1 = {\"banana\":\"yellow\",\"apple\":\"red\",\"guava\":\"green\",\"orange\":\"orange\"}\n",
    "print(dict1)\n",
    "print(dict1.keys())\n",
    "print(dict1.values())\n",
    "print(dict1.items())\n",
    "print(dict1[\"guava\"])\n",
    "print(len(dict1))\n",
    "for i in dict1:\n",
    "    print(i, end=\"_\")\n",
    "    print(dict1[i])\n",
    "print(dict1.get(\"apple\"))\n",
    "del dict1[\"orange\"]\n",
    "print(dict1)\n",
    "dict1.clear()\n",
    "print(dict1)\n",
    "dict1.update({\"abcd\":\"white\"})\n",
    "print(dict1)\n",
    "del dict1\n",
    "print(dict1)"
   ]
  },
  {
   "cell_type": "code",
   "execution_count": null,
   "metadata": {},
   "outputs": [],
   "source": [
    "# Set operation\n",
    "set1 = set()\n",
    "set2 = {\"python\",\"r\",\"java\",\"c\"}\n",
    "set3 = set([\"python\",\"r\",\"java\",\"c\"])\n",
    "set4 = {\"python\",\"vb\",\"c++\",\".net\"}\n",
    "print(set1)\n",
    "print(set2)\n",
    "print(set3)\n",
    "print(len(set1),len(set2),len(set3),len(set4))\n",
    "print(set3 & set4) # Intersection\n",
    "print(set3.intersection(set4))\n",
    "print(set3 | set4) # Union\n",
    "print(set3.union(set4))\n",
    "print(set3 - set4) # Difference\n",
    "print(set3.difference(set4))\n",
    "print(set3.symmetric_difference(set4)) # Symmetric_difference\n",
    "set3.add(\"cobol\")\n",
    "print(set3)\n",
    "set3.remove(\"cobol\")\n",
    "print(set3)\n",
    "print(set3.pop())\n",
    "print(set3)\n",
    "set3.clear()\n",
    "print(set3)"
   ]
  },
  {
   "cell_type": "code",
   "execution_count": null,
   "metadata": {},
   "outputs": [],
   "source": [
    "# try....except....block\n",
    "print(set3)\n",
    "try:\n",
    "    set3.remove(\"c++\")\n",
    "    print(set3)\n",
    "except KeyError as ke:\n",
    "    print(\"Error message:language is not found-->\",ke)"
   ]
  },
  {
   "cell_type": "code",
   "execution_count": null,
   "metadata": {},
   "outputs": [],
   "source": [
    "# try....except....else....finally....block\n",
    "try:\n",
    "    num1 = int(input(\"Enter first number:\"))\n",
    "    num2 = int(input(\"Enter second number:\"))\n",
    "    a = num1 / num2\n",
    "    print(a)\n",
    "except ArithmeticError as ae:\n",
    "    print(\"Division by ZERO is illogical....\")\n",
    "else:\n",
    "    print(\"Correct Execution....\")\n",
    "finally:\n",
    "    print(\"Welcome\")\n",
    "    \n",
    "print(\"End of the program....\")"
   ]
  },
  {
   "cell_type": "code",
   "execution_count": null,
   "metadata": {},
   "outputs": [],
   "source": [
    "# try....if-elif....except....raise....finally....block\n",
    "try:\n",
    "    num1 = int(input(\"Please enter a number between 10 to 20 -->\"))\n",
    "    if(num1 < 10):\n",
    "        raise NameError(\"Entered number is below 10....\")\n",
    "    elif(num1 > 20):\n",
    "        raise NameError(\"Entered number is above 10....\")\n",
    "    print(\"Entered number is:\",num1)\n",
    "except NameError as ne:\n",
    "    print(\"Error message:\",ne)\n",
    "finally:\n",
    "    print(\"Bye....\")\n",
    "print(\"End of the program....\")"
   ]
  },
  {
   "cell_type": "code",
   "execution_count": null,
   "metadata": {},
   "outputs": [],
   "source": [
    "# Using file I/O operation\n",
    "test_file = open(\"student.txt\",\"wb\")\n",
    "print(\"File mode:\",test_file.mode)\n",
    "print(\"File name:\",test_file.name)\n",
    "test_file.write(bytes(\"Student Name-1\",\"UTF-8\"))\n",
    "test_file.close()"
   ]
  },
  {
   "cell_type": "code",
   "execution_count": null,
   "metadata": {},
   "outputs": [],
   "source": [
    "# Database operation\n",
    "import sqlite3\n",
    "connection = sqlite3.connect(\"student_database.db\")\n",
    "print(\"Connected with the database....\")\n",
    "sql = '''\n",
    "CREATE TABLE student (stud_roll INTEGER PRIMARY KEY, stud_name\n",
    "TEXT);\n",
    "'''\n",
    "try:\n",
    "    connection.execute(sql)\n",
    "    print(\"Table created....\")\n",
    "except:\n",
    "    pass"
   ]
  },
  {
   "cell_type": "code",
   "execution_count": null,
   "metadata": {},
   "outputs": [],
   "source": []
  }
 ],
 "metadata": {
  "kernelspec": {
   "display_name": "Python 3",
   "language": "python",
   "name": "python3"
  },
  "language_info": {
   "codemirror_mode": {
    "name": "ipython",
    "version": 3
   },
   "file_extension": ".py",
   "mimetype": "text/x-python",
   "name": "python",
   "nbconvert_exporter": "python",
   "pygments_lexer": "ipython3",
   "version": "3.7.3"
  }
 },
 "nbformat": 4,
 "nbformat_minor": 2
}
