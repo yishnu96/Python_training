{
  "nbformat": 4,
  "nbformat_minor": 0,
  "metadata": {
    "colab": {
      "name": "Day5_B1.ipynb",
      "version": "0.3.2",
      "provenance": []
    },
    "language_info": {
      "codemirror_mode": {
        "name": "ipython",
        "version": 3
      },
      "file_extension": ".py",
      "mimetype": "text/x-python",
      "name": "python",
      "nbconvert_exporter": "python",
      "pygments_lexer": "ipython3",
      "version": "3.7.3"
    },
    "kernelspec": {
      "display_name": "Python 3",
      "language": "python",
      "name": "python3"
    }
  },
  "cells": [
    {
      "cell_type": "code",
      "metadata": {
        "id": "3gldYFuTFNvo",
        "colab_type": "code",
        "colab": {
          "base_uri": "https://localhost:8080/",
          "height": 453
        },
        "outputId": "de5c1b84-5665-4d60-93ef-05120a405507"
      },
      "source": [
        "# Dictionary operation\n",
        "dict1 = {\"banana\":\"yellow\",\"apple\":\"red\",\"guava\":\"green\",\"orange\":\"orange\"}\n",
        "print(dict1)\n",
        "print(dict1.keys())\n",
        "print(dict1.values())\n",
        "print(dict1.items())\n",
        "print(dict1[\"guava\"])\n",
        "print(len(dict1))\n",
        "for i in dict1:\n",
        "    print(i, end=\"_\")\n",
        "    print(dict1[i])\n",
        "print(dict1.get(\"apple\"))\n",
        "del dict1[\"orange\"]\n",
        "print(dict1)\n",
        "dict1.clear()\n",
        "print(dict1)\n",
        "dict1.update({\"abcd\":\"white\"})\n",
        "print(dict1)\n",
        "del dict1\n",
        "print(dict1)"
      ],
      "execution_count": 1,
      "outputs": [
        {
          "output_type": "stream",
          "text": [
            "{'banana': 'yellow', 'apple': 'red', 'guava': 'green', 'orange': 'orange'}\n",
            "dict_keys(['banana', 'apple', 'guava', 'orange'])\n",
            "dict_values(['yellow', 'red', 'green', 'orange'])\n",
            "dict_items([('banana', 'yellow'), ('apple', 'red'), ('guava', 'green'), ('orange', 'orange')])\n",
            "green\n",
            "4\n",
            "banana_yellow\n",
            "apple_red\n",
            "guava_green\n",
            "orange_orange\n",
            "red\n",
            "{'banana': 'yellow', 'apple': 'red', 'guava': 'green'}\n",
            "{}\n",
            "{'abcd': 'white'}\n"
          ],
          "name": "stdout"
        },
        {
          "output_type": "error",
          "ename": "NameError",
          "evalue": "ignored",
          "traceback": [
            "\u001b[0;31m---------------------------------------------------------------------------\u001b[0m",
            "\u001b[0;31mNameError\u001b[0m                                 Traceback (most recent call last)",
            "\u001b[0;32m<ipython-input-1-c39c0baff37e>\u001b[0m in \u001b[0;36m<module>\u001b[0;34m()\u001b[0m\n\u001b[1;32m     17\u001b[0m \u001b[0mprint\u001b[0m\u001b[0;34m(\u001b[0m\u001b[0mdict1\u001b[0m\u001b[0;34m)\u001b[0m\u001b[0;34m\u001b[0m\u001b[0;34m\u001b[0m\u001b[0m\n\u001b[1;32m     18\u001b[0m \u001b[0;32mdel\u001b[0m \u001b[0mdict1\u001b[0m\u001b[0;34m\u001b[0m\u001b[0;34m\u001b[0m\u001b[0m\n\u001b[0;32m---> 19\u001b[0;31m \u001b[0mprint\u001b[0m\u001b[0;34m(\u001b[0m\u001b[0mdict1\u001b[0m\u001b[0;34m)\u001b[0m\u001b[0;34m\u001b[0m\u001b[0;34m\u001b[0m\u001b[0m\n\u001b[0m",
            "\u001b[0;31mNameError\u001b[0m: name 'dict1' is not defined"
          ]
        }
      ]
    },
    {
      "cell_type": "code",
      "metadata": {
        "id": "jzwu9j-fFNvs",
        "colab_type": "code",
        "colab": {
          "base_uri": "https://localhost:8080/",
          "height": 301
        },
        "outputId": "c6ab1307-6f03-4679-ed9f-34b4a9e04cc7"
      },
      "source": [
        "# Set operation\n",
        "set1 = set()\n",
        "set2 = {\"python\",\"r\",\"java\",\"c\"}\n",
        "set3 = set([\"python\",\"r\",\"java\",\"c\"])\n",
        "set4 = {\"python\",\"vb\",\"c++\",\".net\"}\n",
        "print(set1)\n",
        "print(set2)\n",
        "print(set3)\n",
        "print(len(set1),len(set2),len(set3),len(set4))\n",
        "print(set3 & set4) # Intersection\n",
        "print(set3.intersection(set4))\n",
        "print(set3 | set4) # Union\n",
        "print(set3.union(set4))\n",
        "print(set3 - set4) # Difference\n",
        "print(set3.difference(set4))\n",
        "print(set3.symmetric_difference(set4)) # Symmetric_difference\n",
        "set3.add(\"cobol\")\n",
        "print(set3)\n",
        "set3.remove(\"cobol\")\n",
        "print(set3)\n",
        "print(set3.pop())\n",
        "print(set3)\n",
        "set3.clear()\n",
        "print(set3)"
      ],
      "execution_count": 2,
      "outputs": [
        {
          "output_type": "stream",
          "text": [
            "set()\n",
            "{'r', 'python', 'java', 'c'}\n",
            "{'r', 'python', 'java', 'c'}\n",
            "0 4 4 4\n",
            "{'python'}\n",
            "{'python'}\n",
            "{'python', '.net', 'c++', 'java', 'vb', 'r', 'c'}\n",
            "{'python', '.net', 'c++', 'java', 'vb', 'r', 'c'}\n",
            "{'r', 'java', 'c'}\n",
            "{'r', 'java', 'c'}\n",
            "{'.net', 'c++', 'java', 'vb', 'r', 'c'}\n",
            "{'python', 'java', 'cobol', 'r', 'c'}\n",
            "{'python', 'java', 'r', 'c'}\n",
            "python\n",
            "{'java', 'r', 'c'}\n",
            "set()\n"
          ],
          "name": "stdout"
        }
      ]
    },
    {
      "cell_type": "code",
      "metadata": {
        "id": "ytbLvC64FNvu",
        "colab_type": "code",
        "colab": {
          "base_uri": "https://localhost:8080/",
          "height": 53
        },
        "outputId": "41e1e2a6-f21f-4073-8ee9-784441191592"
      },
      "source": [
        "# try....except....block\n",
        "print(set3)\n",
        "try:\n",
        "    set3.remove(\"c++\")\n",
        "    print(set3)\n",
        "except KeyError as ke:\n",
        "    print(\"Error message:language is not found-->\",ke)"
      ],
      "execution_count": 3,
      "outputs": [
        {
          "output_type": "stream",
          "text": [
            "set()\n",
            "Error message:language is not found--> 'c++'\n"
          ],
          "name": "stdout"
        }
      ]
    },
    {
      "cell_type": "code",
      "metadata": {
        "id": "A3JcMIVcFNvw",
        "colab_type": "code",
        "colab": {
          "base_uri": "https://localhost:8080/",
          "height": 124
        },
        "outputId": "08469425-e044-4c5a-dfaa-1faac546f801"
      },
      "source": [
        "# try....except....else....finally....block\n",
        "try:\n",
        "    num1 = int(input(\"Enter first number:\"))\n",
        "    num2 = int(input(\"Enter second number:\"))\n",
        "    a = num1 / num2\n",
        "    print(a)\n",
        "except ArithmeticError as ae:\n",
        "    print(\"Division by ZERO is illogical....\")\n",
        "else:\n",
        "    print(\"Correct Execution....\")\n",
        "finally:\n",
        "    print(\"Welcome\")\n",
        "    \n",
        "print(\"End of the program....\")"
      ],
      "execution_count": 4,
      "outputs": [
        {
          "output_type": "stream",
          "text": [
            "Enter first number:25\n",
            "Enter second number:65\n",
            "0.38461538461538464\n",
            "Correct Execution....\n",
            "Welcome\n",
            "End of the program....\n"
          ],
          "name": "stdout"
        }
      ]
    },
    {
      "cell_type": "code",
      "metadata": {
        "id": "ipS4bzQgFNvy",
        "colab_type": "code",
        "colab": {
          "base_uri": "https://localhost:8080/",
          "height": 88
        },
        "outputId": "f62c3652-e8fb-49e3-b647-06210d22ddb7"
      },
      "source": [
        "# try....if-elif....except....raise....finally....block\n",
        "try:\n",
        "    num1 = int(input(\"Please enter a number between 10 to 20 -->\"))\n",
        "    if(num1 < 10):\n",
        "        raise NameError(\"Entered number is below 10....\")\n",
        "    elif(num1 > 20):\n",
        "        raise NameError(\"Entered number is above 10....\")\n",
        "    print(\"Entered number is:\",num1)\n",
        "except NameError as ne:\n",
        "    print(\"Error message:\",ne)\n",
        "finally:\n",
        "    print(\"Bye....\")\n",
        "print(\"End of the program....\")"
      ],
      "execution_count": 5,
      "outputs": [
        {
          "output_type": "stream",
          "text": [
            "Please enter a number between 10 to 20 -->26\n",
            "Error message: Entered number is above 10....\n",
            "Bye....\n",
            "End of the program....\n"
          ],
          "name": "stdout"
        }
      ]
    },
    {
      "cell_type": "code",
      "metadata": {
        "id": "A0pMt5ezFNvz",
        "colab_type": "code",
        "colab": {
          "base_uri": "https://localhost:8080/",
          "height": 53
        },
        "outputId": "c9637cd5-73a6-473b-8ca6-79b33eaf5fd9"
      },
      "source": [
        "# Using file I/O operation\n",
        "test_file = open(\"student.txt\",\"wb\")\n",
        "print(\"File mode:\",test_file.mode)\n",
        "print(\"File name:\",test_file.name)\n",
        "test_file.write(bytes(\"Student Name-1\",\"UTF-8\"))\n",
        "test_file.close()"
      ],
      "execution_count": 6,
      "outputs": [
        {
          "output_type": "stream",
          "text": [
            "File mode: wb\n",
            "File name: student.txt\n"
          ],
          "name": "stdout"
        }
      ]
    },
    {
      "cell_type": "code",
      "metadata": {
        "id": "iaXAFsv6FNv1",
        "colab_type": "code",
        "colab": {
          "base_uri": "https://localhost:8080/",
          "height": 53
        },
        "outputId": "34d623ac-7674-4be7-bfdd-7efe0a60fa9c"
      },
      "source": [
        "# Database operation\n",
        "import sqlite3\n",
        "connection = sqlite3.connect(\"student_database.db\")\n",
        "print(\"Connected with the database....\")\n",
        "sql = '''\n",
        "CREATE TABLE student (stud_roll INTEGER PRIMARY KEY, stud_name\n",
        "TEXT);\n",
        "'''\n",
        "try:\n",
        "    connection.execute(sql)\n",
        "    print(\"Table created....\")\n",
        "except:\n",
        "    pass"
      ],
      "execution_count": 7,
      "outputs": [
        {
          "output_type": "stream",
          "text": [
            "Connected with the database....\n",
            "Table created....\n"
          ],
          "name": "stdout"
        }
      ]
    }
  ]
}