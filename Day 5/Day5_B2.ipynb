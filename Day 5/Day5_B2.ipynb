{
  "nbformat": 4,
  "nbformat_minor": 0,
  "metadata": {
    "colab": {
      "name": "Day5_B2.ipynb",
      "version": "0.3.2",
      "provenance": []
    },
    "language_info": {
      "codemirror_mode": {
        "name": "ipython",
        "version": 3
      },
      "file_extension": ".py",
      "mimetype": "text/x-python",
      "name": "python",
      "nbconvert_exporter": "python",
      "pygments_lexer": "ipython3",
      "version": "3.7.3"
    },
    "kernelspec": {
      "display_name": "Python 3",
      "language": "python",
      "name": "python3"
    }
  },
  "cells": [
    {
      "cell_type": "code",
      "metadata": {
        "id": "FDHBzkeaGl5_",
        "colab_type": "code",
        "colab": {
          "base_uri": "https://localhost:8080/",
          "height": 453
        },
        "outputId": "1c8a6df3-3f7d-4fbf-e76a-bdaeacb59d7d"
      },
      "source": [
        "# Dictionary operation\n",
        "dict1 = {\"a\":\"1234\",\"b\":\"2345\",\"c\":\"3456\",\"d\":\"4567\"}\n",
        "print(dict1)\n",
        "print(dict1.keys())\n",
        "print(dict1.values())\n",
        "print(dict1.items())\n",
        "print(dict1[\"b\"])\n",
        "print(len(dict1))\n",
        "for i in dict1:\n",
        "    print(i, end=\"\")\n",
        "    print(dict1[i])\n",
        "print(dict1.get(\"c\"))\n",
        "print(dict1)\n",
        "dict1.clear()\n",
        "print(dict1)\n",
        "dict1.update({\"e\":\"5678\"})\n",
        "print(dict1)\n",
        "del dict1\n",
        "print(dict1)"
      ],
      "execution_count": 1,
      "outputs": [
        {
          "output_type": "stream",
          "text": [
            "{'a': '1234', 'b': '2345', 'c': '3456', 'd': '4567'}\n",
            "dict_keys(['a', 'b', 'c', 'd'])\n",
            "dict_values(['1234', '2345', '3456', '4567'])\n",
            "dict_items([('a', '1234'), ('b', '2345'), ('c', '3456'), ('d', '4567')])\n",
            "2345\n",
            "4\n",
            "a1234\n",
            "b2345\n",
            "c3456\n",
            "d4567\n",
            "3456\n",
            "{'a': '1234', 'b': '2345', 'c': '3456', 'd': '4567'}\n",
            "{}\n",
            "{'e': '5678'}\n"
          ],
          "name": "stdout"
        },
        {
          "output_type": "error",
          "ename": "NameError",
          "evalue": "ignored",
          "traceback": [
            "\u001b[0;31m---------------------------------------------------------------------------\u001b[0m",
            "\u001b[0;31mNameError\u001b[0m                                 Traceback (most recent call last)",
            "\u001b[0;32m<ipython-input-1-4a4fd4a25123>\u001b[0m in \u001b[0;36m<module>\u001b[0;34m()\u001b[0m\n\u001b[1;32m     16\u001b[0m \u001b[0mprint\u001b[0m\u001b[0;34m(\u001b[0m\u001b[0mdict1\u001b[0m\u001b[0;34m)\u001b[0m\u001b[0;34m\u001b[0m\u001b[0;34m\u001b[0m\u001b[0m\n\u001b[1;32m     17\u001b[0m \u001b[0;32mdel\u001b[0m \u001b[0mdict1\u001b[0m\u001b[0;34m\u001b[0m\u001b[0;34m\u001b[0m\u001b[0m\n\u001b[0;32m---> 18\u001b[0;31m \u001b[0mprint\u001b[0m\u001b[0;34m(\u001b[0m\u001b[0mdict1\u001b[0m\u001b[0;34m)\u001b[0m\u001b[0;34m\u001b[0m\u001b[0;34m\u001b[0m\u001b[0m\n\u001b[0m",
            "\u001b[0;31mNameError\u001b[0m: name 'dict1' is not defined"
          ]
        }
      ]
    },
    {
      "cell_type": "code",
      "metadata": {
        "id": "J6Athg-3Gl6D",
        "colab_type": "code",
        "colab": {
          "base_uri": "https://localhost:8080/",
          "height": 301
        },
        "outputId": "b46df95a-147c-43a3-eb1c-edebca5b6b62"
      },
      "source": [
        "# Set operation\n",
        "set1 = set()\n",
        "set2 = {\"python\",\"r\",\"java\",\"c\"}\n",
        "set3 = set([\"python\",\"vb\",\"c++\",\"php\"])\n",
        "print(set1)\n",
        "print(set2)\n",
        "print(set3)\n",
        "print(len(set1),len(set2),len(set3))\n",
        "print(set2 & set3) # Intersection\n",
        "print(set2.intersection(set3))\n",
        "print(set2 | set3)\n",
        "print(set2.union(set3)) # Union\n",
        "print(set2.difference(set3)) # Difference\n",
        "print(set2 - set3)\n",
        "print(set2.symmetric_difference(set3))\n",
        "set3.add(\"java\")\n",
        "print(set3)\n",
        "set3.remove(\"java\")\n",
        "print(set3)\n",
        "print(set3.pop())\n",
        "print(set3)\n",
        "set3.clear()\n",
        "print(set3)"
      ],
      "execution_count": 2,
      "outputs": [
        {
          "output_type": "stream",
          "text": [
            "set()\n",
            "{'java', 'r', 'c', 'python'}\n",
            "{'vb', 'c++', 'php', 'python'}\n",
            "0 4 4\n",
            "{'python'}\n",
            "{'python'}\n",
            "{'r', 'java', 'php', 'c', 'vb', 'c++', 'python'}\n",
            "{'r', 'java', 'php', 'c', 'vb', 'c++', 'python'}\n",
            "{'java', 'r', 'c'}\n",
            "{'java', 'r', 'c'}\n",
            "{'r', 'java', 'php', 'c', 'vb', 'c++'}\n",
            "{'java', 'php', 'vb', 'c++', 'python'}\n",
            "{'php', 'vb', 'c++', 'python'}\n",
            "php\n",
            "{'vb', 'c++', 'python'}\n",
            "set()\n"
          ],
          "name": "stdout"
        }
      ]
    },
    {
      "cell_type": "code",
      "metadata": {
        "id": "qbZOS3_wGl6F",
        "colab_type": "code",
        "colab": {
          "base_uri": "https://localhost:8080/",
          "height": 53
        },
        "outputId": "eb8ec645-c156-405c-ea32-952d4cd3f144"
      },
      "source": [
        "# try....except....block\n",
        "set4 = {\"python\",\"r\",\"java\",\"c\"}\n",
        "print(set4)\n",
        "try:\n",
        "    set4.remove(\"c++\")\n",
        "    print(set4)\n",
        "except KeyError as ke:\n",
        "    print(\"Error message:language is not found....\")"
      ],
      "execution_count": 3,
      "outputs": [
        {
          "output_type": "stream",
          "text": [
            "{'java', 'r', 'c', 'python'}\n",
            "Error message:language is not found....\n"
          ],
          "name": "stdout"
        }
      ]
    },
    {
      "cell_type": "code",
      "metadata": {
        "id": "p-gG99HuGl6H",
        "colab_type": "code",
        "colab": {
          "base_uri": "https://localhost:8080/",
          "height": 106
        },
        "outputId": "5664534e-6941-46b3-9318-7d844044998c"
      },
      "source": [
        "# try....except....else....finally....block\n",
        "try:\n",
        "    num1 = int(input(\"Enter first number -->\"))\n",
        "    num2 = int(input(\"Enter second number -->\"))\n",
        "    a = num1 / num2\n",
        "    print(a)\n",
        "except ArithmeticError as ae:\n",
        "    print(\"Division by ZERO is illogical....\")\n",
        "else:\n",
        "    print(\"Correct execution....\")\n",
        "finally:\n",
        "    print(\"Thank you.\")\n",
        "    \n",
        "print(\"End of the program.\")"
      ],
      "execution_count": 4,
      "outputs": [
        {
          "output_type": "stream",
          "text": [
            "Enter first number -->56\n",
            "Enter second number -->0\n",
            "Division by ZERO is illogical....\n",
            "Thank you.\n",
            "End of the program.\n"
          ],
          "name": "stdout"
        }
      ]
    },
    {
      "cell_type": "code",
      "metadata": {
        "id": "WOJF_xvMGl6J",
        "colab_type": "code",
        "colab": {
          "base_uri": "https://localhost:8080/",
          "height": 88
        },
        "outputId": "978290fd-f2d9-4a59-dc57-1f5854961d3d"
      },
      "source": [
        "# try....if-elif....exept....raise....finally....block\n",
        "try:\n",
        "    num1 = int(input(\"Please enter a number between 10 to 20 -->\"))\n",
        "    if(num1 < 10):\n",
        "        raise NameError(\"Entered number is below 10....\")\n",
        "    elif(num1 > 20):\n",
        "        raise NameError(\"Entered number is above 20....\")\n",
        "    print(\"Entered number is:\",num1)\n",
        "except NameError as ne:\n",
        "    print(\"Error message:\",ne)\n",
        "finally:\n",
        "    print(\"Bye....\")\n",
        "    \n",
        "print(\"End of the program....\")"
      ],
      "execution_count": 5,
      "outputs": [
        {
          "output_type": "stream",
          "text": [
            "Please enter a number between 10 to 20 -->15\n",
            "Entered number is: 15\n",
            "Bye....\n",
            "End of the program....\n"
          ],
          "name": "stdout"
        }
      ]
    },
    {
      "cell_type": "code",
      "metadata": {
        "id": "aWExUXcOGl6K",
        "colab_type": "code",
        "colab": {
          "base_uri": "https://localhost:8080/",
          "height": 53
        },
        "outputId": "823c1f6f-5920-41f9-b143-a0e288d828f3"
      },
      "source": [
        "# File operation\n",
        "file1 = open(\"student.txt\",\"wb\")\n",
        "print(\"File mode:\",file1.mode)\n",
        "print(\"File name:\",file1.name)\n",
        "file1.write(bytes(\"Hi hello python\",\"UTF-8\"))\n",
        "file1.close()"
      ],
      "execution_count": 6,
      "outputs": [
        {
          "output_type": "stream",
          "text": [
            "File mode: wb\n",
            "File name: student.txt\n"
          ],
          "name": "stdout"
        }
      ]
    },
    {
      "cell_type": "code",
      "metadata": {
        "id": "qt0R7NJNGl6M",
        "colab_type": "code",
        "colab": {
          "base_uri": "https://localhost:8080/",
          "height": 53
        },
        "outputId": "ab0e224a-7e56-4233-aa6b-3d07825a69ad"
      },
      "source": [
        "# Database operation\n",
        "import sqlite3\n",
        "connection = sqlite3.connect('test.db')\n",
        "print(\"Opened database successfully....\")\n",
        "connection.execute('''CREATE TABLE student\n",
        "                   (stud_roll INTEGER PRIMARY KEY NOT NULL,\n",
        "                   stud_name TEXT);''')\n",
        "print(\"Table created successfully....\")\n",
        "connection.close()"
      ],
      "execution_count": 7,
      "outputs": [
        {
          "output_type": "stream",
          "text": [
            "Opened database successfully....\n",
            "Table created successfully....\n"
          ],
          "name": "stdout"
        }
      ]
    },
    {
      "cell_type": "code",
      "metadata": {
        "id": "dLflsIghGl6O",
        "colab_type": "code",
        "colab": {
          "base_uri": "https://localhost:8080/",
          "height": 53
        },
        "outputId": "8918d2a7-f132-4b00-d29d-e56314a8516f"
      },
      "source": [
        "connection = sqlite3.connect('test.db')\n",
        "print(\"Opened database successfully....\")\n",
        "connection.execute(\"INSERT INTO student(stud_roll,stud_name)\\\n",
        "VALUES(1,'Abcd')\");\n",
        "connection.execute(\"INSERT INTO student(stud_roll,stud_name)\\\n",
        "VALUES(2,'Efgh')\");\n",
        "connection.commit()\n",
        "print(\"Records created successfully....\")\n",
        "connection.close()"
      ],
      "execution_count": 8,
      "outputs": [
        {
          "output_type": "stream",
          "text": [
            "Opened database successfully....\n",
            "Records created successfully....\n"
          ],
          "name": "stdout"
        }
      ]
    }
  ]
}