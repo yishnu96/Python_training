{
 "cells": [
  {
   "cell_type": "code",
   "execution_count": null,
   "metadata": {},
   "outputs": [],
   "source": [
    "# Dictionary operation\n",
    "dict1 = {\"a\":\"1234\",\"b\":\"2345\",\"c\":\"3456\",\"d\":\"4567\"}\n",
    "print(dict1)\n",
    "print(dict1.keys())\n",
    "print(dict1.values())\n",
    "print(dict1.items())\n",
    "print(dict1[\"b\"])\n",
    "print(len(dict1))\n",
    "for i in dict1:\n",
    "    print(i, end=\"\")\n",
    "    print(dict1[i])\n",
    "print(dict1.get(\"c\"))\n",
    "print(dict1)\n",
    "dict1.clear()\n",
    "print(dict1)\n",
    "dict1.update({\"e\":\"5678\"})\n",
    "print(dict1)\n",
    "del dict1\n",
    "print(dict1)"
   ]
  },
  {
   "cell_type": "code",
   "execution_count": null,
   "metadata": {},
   "outputs": [],
   "source": [
    "# Set operation\n",
    "set1 = set()\n",
    "set2 = {\"python\",\"r\",\"java\",\"c\"}\n",
    "set3 = set([\"python\",\"vb\",\"c++\",\"php\"])\n",
    "print(set1)\n",
    "print(set2)\n",
    "print(set3)\n",
    "print(len(set1),len(set2),len(set3))\n",
    "print(set2 & set3) # Intersection\n",
    "print(set2.intersection(set3))\n",
    "print(set2 | set3)\n",
    "print(set2.union(set3)) # Union\n",
    "print(set2.difference(set3)) # Difference\n",
    "print(set2 - set3)\n",
    "print(set2.symmetric_difference(set3))\n",
    "set3.add(\"java\")\n",
    "print(set3)\n",
    "set3.remove(\"java\")\n",
    "print(set3)\n",
    "print(set3.pop())\n",
    "print(set3)\n",
    "set3.clear()\n",
    "print(set3)"
   ]
  },
  {
   "cell_type": "code",
   "execution_count": null,
   "metadata": {},
   "outputs": [],
   "source": [
    "# try....except....block\n",
    "set4 = {\"python\",\"r\",\"java\",\"c\"}\n",
    "print(set4)\n",
    "try:\n",
    "    set4.remove(\"c++\")\n",
    "    print(set4)\n",
    "except KeyError as ke:\n",
    "    print(\"Error message:language is not found....\")"
   ]
  },
  {
   "cell_type": "code",
   "execution_count": null,
   "metadata": {},
   "outputs": [],
   "source": [
    "# try....except....else....finally....block\n",
    "try:\n",
    "    num1 = int(input(\"Enter first number -->\"))\n",
    "    num2 = int(input(\"Enter second number -->\"))\n",
    "    a = num1 / num2\n",
    "    print(a)\n",
    "except ArithmeticError as ae:\n",
    "    print(\"Division by ZERO is illogical....\")\n",
    "else:\n",
    "    print(\"Correct execution....\")\n",
    "finally:\n",
    "    print(\"Thank you.\")\n",
    "    \n",
    "print(\"End of the program.\")"
   ]
  },
  {
   "cell_type": "code",
   "execution_count": null,
   "metadata": {},
   "outputs": [],
   "source": [
    "# try....if-elif....exept....raise....finally....block\n",
    "try:\n",
    "    num1 = int(input(\"Please enter a number between 10 to 20 -->\"))\n",
    "    if(num1 < 10):\n",
    "        raise NameError(\"Entered number is below 10....\")\n",
    "    elif(num1 > 20):\n",
    "        raise NameError(\"Entered number is above 20....\")\n",
    "    print(\"Entered number is:\",num1)\n",
    "except NameError as ne:\n",
    "    print(\"Error message:\",ne)\n",
    "finally:\n",
    "    print(\"Bye....\")\n",
    "    \n",
    "print(\"End of the program....\")"
   ]
  },
  {
   "cell_type": "code",
   "execution_count": null,
   "metadata": {},
   "outputs": [],
   "source": [
    "# File operation\n",
    "file1 = open(\"student.txt\",\"wb\")\n",
    "print(\"File mode:\",file1.mode)\n",
    "print(\"File name:\",file1.name)\n",
    "file1.write(bytes(\"Hi hello python\",\"UTF-8\"))\n",
    "file1.close()"
   ]
  },
  {
   "cell_type": "code",
   "execution_count": null,
   "metadata": {},
   "outputs": [],
   "source": [
    "# Database operation\n",
    "import sqlite3\n",
    "connection = sqlite3.connect('test.db')\n",
    "print(\"Opened database successfully....\")\n",
    "connection.execute('''CREATE TABLE student\n",
    "                   (stud_roll INTEGER PRIMARY KEY NOT NULL,\n",
    "                   stud_name TEXT);''')\n",
    "print(\"Table created successfully....\")\n",
    "connection.close()"
   ]
  },
  {
   "cell_type": "code",
   "execution_count": null,
   "metadata": {},
   "outputs": [],
   "source": [
    "connection = sqlite3.connect('test.db')\n",
    "print(\"Opened database successfully....\")\n",
    "connection.execute(\"INSERT INTO student(stud_roll,stud_name)\\\n",
    "VALUES(1,'Abcd')\");\n",
    "connection.execute(\"INSERT INTO student(stud_roll,stud_name)\\\n",
    "VALUES(2,'Efgh')\");\n",
    "connection.commit()\n",
    "print(\"Records created successfully....\")\n",
    "connection.close()"
   ]
  },
  {
   "cell_type": "code",
   "execution_count": null,
   "metadata": {},
   "outputs": [],
   "source": []
  }
 ],
 "metadata": {
  "kernelspec": {
   "display_name": "Python 3",
   "language": "python",
   "name": "python3"
  },
  "language_info": {
   "codemirror_mode": {
    "name": "ipython",
    "version": 3
   },
   "file_extension": ".py",
   "mimetype": "text/x-python",
   "name": "python",
   "nbconvert_exporter": "python",
   "pygments_lexer": "ipython3",
   "version": "3.7.3"
  }
 },
 "nbformat": 4,
 "nbformat_minor": 2
}
