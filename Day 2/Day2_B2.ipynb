{
 "cells": [
  {
   "cell_type": "code",
   "execution_count": null,
   "metadata": {},
   "outputs": [],
   "source": [
    "# While loop\n",
    "i = 4\n",
    "while i > 0:\n",
    "    print(i)\n",
    "    i = i - 1"
   ]
  },
  {
   "cell_type": "code",
   "execution_count": null,
   "metadata": {},
   "outputs": [],
   "source": [
    "# While loop with else statement\n",
    "i = 5\n",
    "while i < 10:\n",
    "    print(i)\n",
    "    i = i + 1\n",
    "else:\n",
    "    print(\"Displayed Successfully.\")"
   ]
  },
  {
   "cell_type": "code",
   "execution_count": null,
   "metadata": {},
   "outputs": [],
   "source": [
    "# Printing the pattern using input() function\n",
    "n = int(input(\"Please enter the number of layers:\"))\n",
    "i = 1\n",
    "while i <= n:\n",
    "    j = 1\n",
    "    while j <= n - i:\n",
    "        print(\".\",end=\"\")\n",
    "        j = j + 1\n",
    "    j = 1\n",
    "    while j <= 2 * i - 1:\n",
    "        print(\"*\",end=\"\")\n",
    "        j = j + 1\n",
    "    print()\n",
    "    i = i + 1"
   ]
  },
  {
   "cell_type": "code",
   "execution_count": null,
   "metadata": {},
   "outputs": [],
   "source": [
    "n = int(input(\"Please enter the odd number of layers:\"))\n",
    "m = (n + 1) / 2\n",
    "i = 1\n",
    "while i <= n:\n",
    "    if(i > m):\n",
    "        b = n - i\n",
    "        s = 2 * (i - m) + 1\n",
    "    else:\n",
    "        b = i - 1\n",
    "        s = 2 * (m - i) + 1\n",
    "    j = 1\n",
    "    while j <= b:\n",
    "        print(\".\",end=\"\")\n",
    "        j = j + 1\n",
    "    j = 1\n",
    "    while j <= s:\n",
    "        print(\"*\",end=\"\")\n",
    "        j = j + 1\n",
    "    print()\n",
    "    i = i + 1"
   ]
  },
  {
   "cell_type": "code",
   "execution_count": null,
   "metadata": {},
   "outputs": [],
   "source": [
    "# Using import keyword\n",
    "import math\n",
    "math.sqrt(25)"
   ]
  },
  {
   "cell_type": "code",
   "execution_count": null,
   "metadata": {},
   "outputs": [],
   "source": [
    "# Using multiple functions from math module\n",
    "from math import sqrt,cos,sin,tan\n",
    "sqrt(25)"
   ]
  },
  {
   "cell_type": "code",
   "execution_count": null,
   "metadata": {},
   "outputs": [],
   "source": [
    "# Using math module with output function\n",
    "import math\n",
    "a = 16\n",
    "b = 0\n",
    "print(math.sqrt(a))\n",
    "print(math.sin(b))\n",
    "print(math.cos(b))\n",
    "print(math.tan(45))"
   ]
  },
  {
   "cell_type": "code",
   "execution_count": null,
   "metadata": {},
   "outputs": [],
   "source": [
    "# Using for loop\n",
    "a = (1,2,3,4,5,6)\n",
    "for i in a:\n",
    "    print(i)\n",
    "else:\n",
    "    print(\"Printing Completed.\")"
   ]
  },
  {
   "cell_type": "code",
   "execution_count": 24,
   "metadata": {},
   "outputs": [
    {
     "name": "stdout",
     "output_type": "stream",
     "text": [
      "1 Hello\n",
      "2 Hello\n",
      "3 Hello\n",
      "4 Hello\n",
      "5 Hello\n",
      "6 Hello\n"
     ]
    }
   ],
   "source": [
    "# Printing all the elements present in a set\n",
    "a = (1,2,3,4,5,6)\n",
    "for i in a:\n",
    "    print(i,end=\"\")\n",
    "    print(\" Hello\")"
   ]
  },
  {
   "cell_type": "code",
   "execution_count": null,
   "metadata": {},
   "outputs": [],
   "source": [
    "# For loop using range() function\n",
    "for i in range(10):\n",
    "    print(i)\n"
   ]
  },
  {
   "cell_type": "code",
   "execution_count": null,
   "metadata": {},
   "outputs": [],
   "source": [
    "# For loop using range() function with parameters\n",
    "for i in range(1,10,4):\n",
    "    print(i)\n"
   ]
  },
  {
   "cell_type": "code",
   "execution_count": null,
   "metadata": {},
   "outputs": [],
   "source": [
    "# Finding all prime numbers from 1 to 100\n",
    "for i in range(3,100):\n",
    "    for prime in range(2,i):\n",
    "        if(i % prime == 0):\n",
    "            break\n",
    "        if(prime == (i - 1)):\n",
    "            print(i,\"is a Prime Number.\")"
   ]
  },
  {
   "cell_type": "code",
   "execution_count": null,
   "metadata": {},
   "outputs": [],
   "source": [
    "# Using continue and pass statement\n",
    "for num in range(1,20):\n",
    "    if(num % 2 != 0):\n",
    "        pass\n",
    "    print(\"num = \",num)"
   ]
  },
  {
   "cell_type": "code",
   "execution_count": null,
   "metadata": {},
   "outputs": [],
   "source": [
    "# Printing pattern using for loop\n",
    "n = int(input(\"Enter the number of layers:\"))\n",
    "for i in range(1, n + 1):\n",
    "    print(\".\" * (n - i),end=\"\")\n",
    "    print(\"*\" * (2 * i - 1))"
   ]
  },
  {
   "cell_type": "code",
   "execution_count": null,
   "metadata": {},
   "outputs": [],
   "source": [
    "n = int(input(\"Enter the number of layers:\"))\n",
    "for i in range(1, n + 1):\n",
    "    print(\".\" * (i - 1),end=\"\")\n",
    "    print(\"*\" * (2 * (n - i) + 1))"
   ]
  },
  {
   "cell_type": "code",
   "execution_count": null,
   "metadata": {},
   "outputs": [],
   "source": []
  }
 ],
 "metadata": {
  "kernelspec": {
   "display_name": "Python 3",
   "language": "python",
   "name": "python3"
  },
  "language_info": {
   "codemirror_mode": {
    "name": "ipython",
    "version": 3
   },
   "file_extension": ".py",
   "mimetype": "text/x-python",
   "name": "python",
   "nbconvert_exporter": "python",
   "pygments_lexer": "ipython3",
   "version": "3.7.3"
  }
 },
 "nbformat": 4,
 "nbformat_minor": 2
}
