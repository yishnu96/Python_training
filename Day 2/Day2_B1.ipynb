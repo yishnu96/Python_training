{
  "nbformat": 4,
  "nbformat_minor": 0,
  "metadata": {
    "colab": {
      "name": "Day2_B1.ipynb",
      "version": "0.3.2",
      "provenance": []
    },
    "language_info": {
      "codemirror_mode": {
        "name": "ipython",
        "version": 3
      },
      "file_extension": ".py",
      "mimetype": "text/x-python",
      "name": "python",
      "nbconvert_exporter": "python",
      "pygments_lexer": "ipython3",
      "version": "3.7.3"
    },
    "kernelspec": {
      "display_name": "Python 3",
      "language": "python",
      "name": "python3"
    }
  },
  "cells": [
    {
      "cell_type": "code",
      "metadata": {
        "id": "21YZrgQa0Ph-",
        "colab_type": "code",
        "colab": {
          "base_uri": "https://localhost:8080/",
          "height": 213
        },
        "outputId": "6440afe1-243d-42c5-a9b0-a04735c1e733"
      },
      "source": [
        "# To print pattern using input() function\n",
        "n = int(input(\"Please enter the odd number of layers:\"))\n",
        "m = (n+1)/2\n",
        "i = 1\n",
        "while i <= n:\n",
        "    if(i > m):\n",
        "        b = n - i\n",
        "        s = 2*(i-m)+1\n",
        "    else:\n",
        "        b = i - 1\n",
        "        s = 2*(m-i)+1\n",
        "    j = 1\n",
        "    while j <= b:\n",
        "        print(\" \",end=\"\")\n",
        "        j = j + 1\n",
        "    j = 1\n",
        "    while j <= s:\n",
        "        print(\"*\",end=\"\")\n",
        "        j = j + 1\n",
        "    print()\n",
        "    i = i + 1"
      ],
      "execution_count": 2,
      "outputs": [
        {
          "output_type": "stream",
          "text": [
            "Please enter the odd number of layers:10\n",
            "**********\n",
            " ********\n",
            "  ******\n",
            "   ****\n",
            "    **\n",
            "    **\n",
            "   ****\n",
            "  ******\n",
            " ********\n",
            "**********\n"
          ],
          "name": "stdout"
        }
      ]
    },
    {
      "cell_type": "code",
      "metadata": {
        "id": "O1PSQfsq0PiB",
        "colab_type": "code",
        "colab": {}
      },
      "source": [
        ""
      ],
      "execution_count": 0,
      "outputs": []
    },
    {
      "cell_type": "code",
      "metadata": {
        "id": "WJiqzszU0PiD",
        "colab_type": "code",
        "colab": {
          "base_uri": "https://localhost:8080/",
          "height": 70
        },
        "outputId": "2e8f6148-db45-4ea5-af19-ce76503afef0"
      },
      "source": [
        "# Using while loop\n",
        "i = 3\n",
        "while i > 0:\n",
        "    print(i)\n",
        "    i = i - 1"
      ],
      "execution_count": 3,
      "outputs": [
        {
          "output_type": "stream",
          "text": [
            "3\n",
            "2\n",
            "1\n"
          ],
          "name": "stdout"
        }
      ]
    },
    {
      "cell_type": "code",
      "metadata": {
        "id": "awajFnTf0PiF",
        "colab_type": "code",
        "colab": {
          "base_uri": "https://localhost:8080/",
          "height": 35
        },
        "outputId": "1aa38663-a10c-4491-e38f-7e9e032d68f8"
      },
      "source": [
        "# Using while loop and else\n",
        "i = 5\n",
        "while i < 10:\n",
        "    i = i +1\n",
        "else:\n",
        "    print(\"Displayed Successfully.\")"
      ],
      "execution_count": 4,
      "outputs": [
        {
          "output_type": "stream",
          "text": [
            "Displayed Successfully.\n"
          ],
          "name": "stdout"
        }
      ]
    },
    {
      "cell_type": "code",
      "metadata": {
        "id": "72XGfD_m0PiH",
        "colab_type": "code",
        "colab": {
          "base_uri": "https://localhost:8080/",
          "height": 213
        },
        "outputId": "2b4346a6-6adc-45b1-aa93-d96fb29dd230"
      },
      "source": [
        "# To print pattern using input() function\n",
        "n = int(input(\"Please enter the number of layers:\"))\n",
        "i = 1\n",
        "while i <= n:\n",
        "    j = 1\n",
        "    while j <= n - i:\n",
        "        print(\" \",end=\"\")\n",
        "        j = j + 1\n",
        "    j = 1\n",
        "    while j <= 2*i - 1:\n",
        "        print(\"*\",end=\"\")\n",
        "        j = j + 1\n",
        "    print()\n",
        "    i = i + 1\n"
      ],
      "execution_count": 6,
      "outputs": [
        {
          "output_type": "stream",
          "text": [
            "Please enter the number of layers:10\n",
            "         *\n",
            "        ***\n",
            "       *****\n",
            "      *******\n",
            "     *********\n",
            "    ***********\n",
            "   *************\n",
            "  ***************\n",
            " *****************\n",
            "*******************\n"
          ],
          "name": "stdout"
        }
      ]
    },
    {
      "cell_type": "code",
      "metadata": {
        "id": "usnX0vEo0PiJ",
        "colab_type": "code",
        "colab": {},
        "outputId": "72614ace-f45d-4e6f-dd7b-1a68143545d2"
      },
      "source": [
        "# 'Generic import' of math module\n",
        "import math\n",
        "print(math.sqrt(25))\n",
        "print(math.sin(0))\n",
        "print(math.cos(0))\n",
        "print(math.tan(45))"
      ],
      "execution_count": 0,
      "outputs": [
        {
          "output_type": "stream",
          "text": [
            "5.0\n",
            "0.0\n",
            "1.0\n",
            "1.6197751905438615\n"
          ],
          "name": "stdout"
        }
      ]
    },
    {
      "cell_type": "code",
      "metadata": {
        "id": "hstfNtzx0PiN",
        "colab_type": "code",
        "colab": {
          "base_uri": "https://localhost:8080/",
          "height": 35
        },
        "outputId": "38d19b10-a78d-48b7-d7a8-6fdf645cdc19"
      },
      "source": [
        "# Import a function\n",
        "from math import sqrt,cos\n",
        "sqrt(25)"
      ],
      "execution_count": 7,
      "outputs": [
        {
          "output_type": "execute_result",
          "data": {
            "text/plain": [
              "5.0"
            ]
          },
          "metadata": {
            "tags": []
          },
          "execution_count": 7
        }
      ]
    },
    {
      "cell_type": "code",
      "metadata": {
        "id": "iGSFQ42T0PiO",
        "colab_type": "code",
        "colab": {
          "base_uri": "https://localhost:8080/",
          "height": 88
        },
        "outputId": "3b1c2966-9c54-4797-b4c8-36c818cb58a8"
      },
      "source": [
        "# For loop using range() function\n",
        "for x in range(4):\n",
        "    print(x)"
      ],
      "execution_count": 8,
      "outputs": [
        {
          "output_type": "stream",
          "text": [
            "0\n",
            "1\n",
            "2\n",
            "3\n"
          ],
          "name": "stdout"
        }
      ]
    },
    {
      "cell_type": "code",
      "metadata": {
        "id": "_iwR8R6F0PiQ",
        "colab_type": "code",
        "colab": {
          "base_uri": "https://localhost:8080/",
          "height": 124
        },
        "outputId": "7276c183-b2cf-406e-eac7-dd4e27ba78e2"
      },
      "source": [
        "# Print all the elements present in a set\n",
        "a = [1,2,3,4,5,6]\n",
        "for i in a:\n",
        "    print(i,end=\"\")\n",
        "    print(\" Hello\")"
      ],
      "execution_count": 11,
      "outputs": [
        {
          "output_type": "stream",
          "text": [
            "1 Hello\n",
            "2 Hello\n",
            "3 Hello\n",
            "4 Hello\n",
            "5 Hello\n",
            "6 Hello\n"
          ],
          "name": "stdout"
        }
      ]
    },
    {
      "cell_type": "code",
      "metadata": {
        "id": "95kKrLY_0PiS",
        "colab_type": "code",
        "colab": {
          "base_uri": "https://localhost:8080/",
          "height": 53
        },
        "outputId": "0339198d-43ce-45c3-9ac7-2779b5e63565"
      },
      "source": [
        "# For loop using range() function with three parameters\n",
        "for i in range(6,11,4):\n",
        "    print(i)"
      ],
      "execution_count": 10,
      "outputs": [
        {
          "output_type": "stream",
          "text": [
            "6\n",
            "10\n"
          ],
          "name": "stdout"
        }
      ]
    },
    {
      "cell_type": "code",
      "metadata": {
        "id": "qutygqIb0PiU",
        "colab_type": "code",
        "colab": {}
      },
      "source": [
        "# For loop with out using range() function\n",
        "b = (11,12,13,14,15)\n",
        "for i in b:\n",
        "    print(i)\n",
        "else:\n",
        "    print(\"Printing Completed\")"
      ],
      "execution_count": 0,
      "outputs": []
    },
    {
      "cell_type": "code",
      "metadata": {
        "id": "gvTtoRBx0PiZ",
        "colab_type": "code",
        "colab": {
          "base_uri": "https://localhost:8080/",
          "height": 230
        },
        "outputId": "609fe5c7-ea4f-4167-cc1a-e7556375a35c"
      },
      "source": [
        "# Print pattern using for loop and input() function\n",
        "n = int(input(\"Enter the number of layers:\"))\n",
        "for i in range(1 , n + 1):\n",
        "    print(\" \" * (n-i), end=\"\")\n",
        "    print(\"*\" * (2 * i - 1))\n",
        "print(\"End of the program.\")\n"
      ],
      "execution_count": 13,
      "outputs": [
        {
          "output_type": "stream",
          "text": [
            "Enter the number of layers:10\n",
            "         *\n",
            "        ***\n",
            "       *****\n",
            "      *******\n",
            "     *********\n",
            "    ***********\n",
            "   *************\n",
            "  ***************\n",
            " *****************\n",
            "*******************\n",
            "End of the program.\n"
          ],
          "name": "stdout"
        }
      ]
    },
    {
      "cell_type": "code",
      "metadata": {
        "id": "i5NwYtoq0Pib",
        "colab_type": "code",
        "colab": {
          "base_uri": "https://localhost:8080/",
          "height": 230
        },
        "outputId": "b8c82d32-48ff-455d-89bf-29029cfda36b"
      },
      "source": [
        "n = int(input(\"Enter the number of layers:\"))\n",
        "for i in range(1 , n + 1):\n",
        "    print(\" \" * (i-1), end=\"\")\n",
        "    print(\"*\" * (2 * (n - i) + 1))\n",
        "print(\"End of the program.\")"
      ],
      "execution_count": 14,
      "outputs": [
        {
          "output_type": "stream",
          "text": [
            "Enter the number of layers:10\n",
            "*******************\n",
            " *****************\n",
            "  ***************\n",
            "   *************\n",
            "    ***********\n",
            "     *********\n",
            "      *******\n",
            "       *****\n",
            "        ***\n",
            "         *\n",
            "End of the program.\n"
          ],
          "name": "stdout"
        }
      ]
    },
    {
      "cell_type": "code",
      "metadata": {
        "id": "XShulp780Pie",
        "colab_type": "code",
        "colab": {
          "base_uri": "https://localhost:8080/",
          "height": 373
        },
        "outputId": "fa593caf-5839-4d78-e8ea-71bef8518b08"
      },
      "source": [
        "n = 0\n",
        "while(n % 2 == 0):\n",
        "    n = int(input(\"Please enter odd number of layers:\"))\n",
        "m = (n + 1) // 2\n",
        "for i in range(1, n + 1):\n",
        "    if(i > m):\n",
        "        b = (i - m)\n",
        "        s = 2 * (n - i) + 1\n",
        "    else:\n",
        "        b = (m - i)\n",
        "        s = 2 * i - 1\n",
        "    print(\" \" * b, end=\"\")\n",
        "    print(\"*\" * s)\n",
        "print(\"End of the program.\")"
      ],
      "execution_count": 16,
      "outputs": [
        {
          "output_type": "stream",
          "text": [
            "Please enter odd number of layers:10\n",
            "Please enter odd number of layers:52\n",
            "Please enter odd number of layers:96\n",
            "Please enter odd number of layers:15\n",
            "       *\n",
            "      ***\n",
            "     *****\n",
            "    *******\n",
            "   *********\n",
            "  ***********\n",
            " *************\n",
            "***************\n",
            " *************\n",
            "  ***********\n",
            "   *********\n",
            "    *******\n",
            "     *****\n",
            "      ***\n",
            "       *\n",
            "End of the program.\n"
          ],
          "name": "stdout"
        }
      ]
    },
    {
      "cell_type": "code",
      "metadata": {
        "id": "4YAjlwkb0Pig",
        "colab_type": "code",
        "colab": {
          "base_uri": "https://localhost:8080/",
          "height": 461
        },
        "outputId": "91d20ede-d7da-403d-a1bf-8f6451a223ac"
      },
      "source": [
        "# Finding all prime numbers from 1 to 100 using break statement\n",
        "for num in range(3,100):\n",
        "    for p in range(2,num):\n",
        "        if(num % p == 0):\n",
        "            break\n",
        "    if(p == (num - 1)):\n",
        "        print(num,\"is a Prime Number.... \")\n",
        "print(\"End of the program....\")"
      ],
      "execution_count": 17,
      "outputs": [
        {
          "output_type": "stream",
          "text": [
            "3 is a Prime Number.... \n",
            "5 is a Prime Number.... \n",
            "7 is a Prime Number.... \n",
            "11 is a Prime Number.... \n",
            "13 is a Prime Number.... \n",
            "17 is a Prime Number.... \n",
            "19 is a Prime Number.... \n",
            "23 is a Prime Number.... \n",
            "29 is a Prime Number.... \n",
            "31 is a Prime Number.... \n",
            "37 is a Prime Number.... \n",
            "41 is a Prime Number.... \n",
            "43 is a Prime Number.... \n",
            "47 is a Prime Number.... \n",
            "53 is a Prime Number.... \n",
            "59 is a Prime Number.... \n",
            "61 is a Prime Number.... \n",
            "67 is a Prime Number.... \n",
            "71 is a Prime Number.... \n",
            "73 is a Prime Number.... \n",
            "79 is a Prime Number.... \n",
            "83 is a Prime Number.... \n",
            "89 is a Prime Number.... \n",
            "97 is a Prime Number.... \n",
            "End of the program....\n"
          ],
          "name": "stdout"
        }
      ]
    },
    {
      "cell_type": "code",
      "metadata": {
        "id": "nC0ViQiG0Pih",
        "colab_type": "code",
        "colab": {}
      },
      "source": [
        ""
      ],
      "execution_count": 0,
      "outputs": []
    },
    {
      "cell_type": "code",
      "metadata": {
        "id": "2R29ni8u0Pij",
        "colab_type": "code",
        "colab": {}
      },
      "source": [
        ""
      ],
      "execution_count": 0,
      "outputs": []
    }
  ]
}