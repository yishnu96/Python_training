{
 "cells": [
  {
   "cell_type": "code",
   "execution_count": null,
   "metadata": {},
   "outputs": [],
   "source": [
    "# To print pattern using input() function\n",
    "n = int(input(\"Please enter the odd number of layers:\"))\n",
    "m = (n+1)/2\n",
    "i = 1\n",
    "while i <= n:\n",
    "    if(i > m):\n",
    "        b = n - i\n",
    "        s = 2*(i-m)+1\n",
    "    else:\n",
    "        b = i - 1\n",
    "        s = 2*(m-i)+1\n",
    "    j = 1\n",
    "    while j <= b:\n",
    "        print(\".\",end=\"\")\n",
    "        j = j + 1\n",
    "    j = 1\n",
    "    while j <= s:\n",
    "        print(\"*\",end=\"\")\n",
    "        j = j + 1\n",
    "    print()\n",
    "    i = i + 1"
   ]
  },
  {
   "cell_type": "code",
   "execution_count": null,
   "metadata": {},
   "outputs": [],
   "source": []
  },
  {
   "cell_type": "code",
   "execution_count": null,
   "metadata": {},
   "outputs": [],
   "source": [
    "# Using while loop\n",
    "i = 3\n",
    "while i > 0:\n",
    "    print(i)\n",
    "    i = i - 1"
   ]
  },
  {
   "cell_type": "code",
   "execution_count": null,
   "metadata": {},
   "outputs": [],
   "source": [
    "# Using while loop and else\n",
    "i = 5\n",
    "while i < 10:\n",
    "    i = i +1\n",
    "else:\n",
    "    print(\"Displayed Successfully.\")"
   ]
  },
  {
   "cell_type": "code",
   "execution_count": null,
   "metadata": {},
   "outputs": [],
   "source": [
    "# To print pattern using input() function\n",
    "n = int(input(\"Please enter the number of layers:\"))\n",
    "i = 1\n",
    "while i <= n:\n",
    "    j = 1\n",
    "    while j <= n - i:\n",
    "        print(\".\",end=\"\")\n",
    "        j = j + 1\n",
    "    j = 1\n",
    "    while j <= 2*i - 1:\n",
    "        print(\"*\",end=\"\")\n",
    "        j = j + 1\n",
    "    print()\n",
    "    i = i + 1\n"
   ]
  },
  {
   "cell_type": "code",
   "execution_count": 25,
   "metadata": {},
   "outputs": [
    {
     "name": "stdout",
     "output_type": "stream",
     "text": [
      "5.0\n",
      "0.0\n",
      "1.0\n",
      "1.6197751905438615\n"
     ]
    }
   ],
   "source": [
    "# 'Generic import' of math module\n",
    "import math\n",
    "print(math.sqrt(25))\n",
    "print(math.sin(0))\n",
    "print(math.cos(0))\n",
    "print(math.tan(45))"
   ]
  },
  {
   "cell_type": "code",
   "execution_count": null,
   "metadata": {},
   "outputs": [],
   "source": [
    "# Import a function\n",
    "from math import sqrt,cos\n",
    "sqrt(25)"
   ]
  },
  {
   "cell_type": "code",
   "execution_count": null,
   "metadata": {},
   "outputs": [],
   "source": [
    "# For loop using range() function\n",
    "for x in range(4):\n",
    "    print(x)"
   ]
  },
  {
   "cell_type": "code",
   "execution_count": null,
   "metadata": {},
   "outputs": [],
   "source": [
    "# Print all the elements present in a set\n",
    "a = [1,2,3,4,5,6]\n",
    "for i in a:\n",
    "    print(i,end=\"\")\n",
    "    print(\"Hello\")"
   ]
  },
  {
   "cell_type": "code",
   "execution_count": null,
   "metadata": {},
   "outputs": [],
   "source": [
    "# For loop using range() function with three parameters\n",
    "for i in range(6,11,4):\n",
    "    print(i)"
   ]
  },
  {
   "cell_type": "code",
   "execution_count": null,
   "metadata": {},
   "outputs": [],
   "source": [
    "# For loop with out using range() function\n",
    "b = (11,12,13,14,15)\n",
    "for i in b:\n",
    "    print(i)\n",
    "else:\n",
    "    print(\"Printing Completed\")"
   ]
  },
  {
   "cell_type": "code",
   "execution_count": null,
   "metadata": {},
   "outputs": [],
   "source": [
    "# Print pattern using for loop and input() function\n",
    "n = int(input(\"Enter the number of layers:\"))\n",
    "for i in range(1 , n + 1):\n",
    "    print(\".\" * (n-i), end=\"\")\n",
    "    print(\"*\" * (2 * i - 1))\n",
    "print(\"End of the program.\")\n"
   ]
  },
  {
   "cell_type": "code",
   "execution_count": 18,
   "metadata": {},
   "outputs": [
    {
     "name": "stdin",
     "output_type": "stream",
     "text": [
      "Enter the number of layers: 6\n"
     ]
    },
    {
     "name": "stdout",
     "output_type": "stream",
     "text": [
      "***********\n",
      ".*********\n",
      "..*******\n",
      "...*****\n",
      "....***\n",
      ".....*\n",
      "End of the program.\n"
     ]
    }
   ],
   "source": [
    "n = int(input(\"Enter the number of layers:\"))\n",
    "for i in range(1 , n + 1):\n",
    "    print(\".\" * (i-1), end=\"\")\n",
    "    print(\"*\" * (2 * (n - i) + 1))\n",
    "print(\"End of the program.\")"
   ]
  },
  {
   "cell_type": "code",
   "execution_count": null,
   "metadata": {},
   "outputs": [],
   "source": [
    "n = 0\n",
    "while(n % 2 == 0):\n",
    "    n = int(input(\"Please enter odd number of layers:\"))\n",
    "m = (n + 1) // 2\n",
    "for i in range(1, n + 1):\n",
    "    if(i > m):\n",
    "        b = (i - m)\n",
    "        s = 2 * (n - i) + 1\n",
    "    else:\n",
    "        b = (m - i)\n",
    "        s = 2 * i - 1\n",
    "    print(\".\" * b, end=\"\")\n",
    "    print(\"*\" * s)\n",
    "print(\"End of the program.\")"
   ]
  },
  {
   "cell_type": "code",
   "execution_count": null,
   "metadata": {},
   "outputs": [],
   "source": [
    "# Finding all prime numbers from 1 to 100 using break statement\n",
    "for num in range(3,100):\n",
    "    for p in range(2,num):\n",
    "        if(num % p == 0):\n",
    "            break\n",
    "    if(p == (num - 1)):\n",
    "        print(num,\"is a Prime Number.... \")\n",
    "print(\"End of the program....\")"
   ]
  },
  {
   "cell_type": "code",
   "execution_count": null,
   "metadata": {},
   "outputs": [],
   "source": []
  },
  {
   "cell_type": "code",
   "execution_count": null,
   "metadata": {},
   "outputs": [],
   "source": []
  }
 ],
 "metadata": {
  "kernelspec": {
   "display_name": "Python 3",
   "language": "python",
   "name": "python3"
  },
  "language_info": {
   "codemirror_mode": {
    "name": "ipython",
    "version": 3
   },
   "file_extension": ".py",
   "mimetype": "text/x-python",
   "name": "python",
   "nbconvert_exporter": "python",
   "pygments_lexer": "ipython3",
   "version": "3.7.3"
  }
 },
 "nbformat": 4,
 "nbformat_minor": 2
}
