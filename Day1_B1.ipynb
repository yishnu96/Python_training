{
 "cells": [
  {
   "cell_type": "code",
   "execution_count": 1,
   "metadata": {},
   "outputs": [
    {
     "name": "stdout",
     "output_type": "stream",
     "text": [
      "True\n"
     ]
    }
   ],
   "source": [
    "# True False\n",
    "print(5==5)"
   ]
  },
  {
   "cell_type": "code",
   "execution_count": 2,
   "metadata": {},
   "outputs": [
    {
     "name": "stdout",
     "output_type": "stream",
     "text": [
      "False\n"
     ]
    }
   ],
   "source": [
    "print(5>5)"
   ]
  },
  {
   "cell_type": "code",
   "execution_count": 6,
   "metadata": {},
   "outputs": [
    {
     "name": "stdout",
     "output_type": "stream",
     "text": [
      "False\n",
      "False\n",
      "False\n",
      "True\n",
      "True\n"
     ]
    }
   ],
   "source": [
    "print(None==0)\n",
    "print(None==False)\n",
    "print(None==[])\n",
    "print(None==None)\n",
    "print(None is None)"
   ]
  },
  {
   "cell_type": "code",
   "execution_count": 7,
   "metadata": {},
   "outputs": [
    {
     "data": {
      "text/plain": [
       "'This is a multi-line comment in the program'"
      ]
     },
     "execution_count": 7,
     "metadata": {},
     "output_type": "execute_result"
    }
   ],
   "source": [
    "'''This is a multi-line comment in the program'''"
   ]
  },
  {
   "cell_type": "code",
   "execution_count": 9,
   "metadata": {},
   "outputs": [
    {
     "data": {
      "text/plain": [
       "'This is a multi-line comment in the program'"
      ]
     },
     "execution_count": 9,
     "metadata": {},
     "output_type": "execute_result"
    }
   ],
   "source": [
    "\"\"\"This is a multi-line comment in the program\"\"\""
   ]
  },
  {
   "cell_type": "code",
   "execution_count": 12,
   "metadata": {},
   "outputs": [
    {
     "name": "stdout",
     "output_type": "stream",
     "text": [
      "200\n"
     ]
    }
   ],
   "source": [
    "# Addition Operations\n",
    "num1=100\n",
    "num2=100\n",
    "total=num1+num2\n",
    "print(total)"
   ]
  },
  {
   "cell_type": "code",
   "execution_count": null,
   "metadata": {},
   "outputs": [],
   "source": [
    "print('Doing addition operation....')\n",
    "print(\"Sum of {} and {} is {}....\".format(num1,num2,total))\n",
    "print(\"Sum of {0} and {1} is {2}....\".format(num1,num2,total))"
   ]
  },
  {
   "cell_type": "code",
   "execution_count": 21,
   "metadata": {},
   "outputs": [
    {
     "name": "stdout",
     "output_type": "stream",
     "text": [
      "5 + 2 = 7\n",
      "5 - 2 = 3\n",
      "5 * 2 = 10\n",
      "5 / 2 = 2.5\n",
      "5 // 2 = 2\n",
      "5 ** 2 = 25\n",
      "5 % 2 = 1\n"
     ]
    }
   ],
   "source": [
    "# Arithmetic Operators\n",
    "\n",
    "print(\"5 + 2 =\",(5+2)) # This is addition operation.\n",
    "print(\"5 - 2 =\",(5-2))\n",
    "print(\"5 * 2 =\",(5*2))\n",
    "print(\"5 / 2 =\",(5/2))\n",
    "print(\"5 // 2 =\",(5//2))\n",
    "print(\"5 ** 2 =\",(5**2))\n",
    "print(\"5 % 2 =\",(5%2))"
   ]
  },
  {
   "cell_type": "code",
   "execution_count": 20,
   "metadata": {},
   "outputs": [
    {
     "name": "stdout",
     "output_type": "stream",
     "text": [
      "Welcome to \\ the world \\ of programming\n"
     ]
    }
   ],
   "source": [
    "print(\"Welcome to \\ the world \\ of programming\")"
   ]
  },
  {
   "cell_type": "code",
   "execution_count": 24,
   "metadata": {},
   "outputs": [
    {
     "name": "stdout",
     "output_type": "stream",
     "text": [
      "5 is of type <class 'int'>\n",
      "2.0 is of type <class 'float'>\n",
      "(1+2j) is of type <class 'complex'>\n"
     ]
    }
   ],
   "source": [
    "a = 5\n",
    "print(a, \"is of type\", type(a))\n",
    "a = 2.0\n",
    "print(a, \"is of type\", type(a))\n",
    "a = 1+2j\n",
    "print(a, \"is of type\",type(a))"
   ]
  },
  {
   "cell_type": "code",
   "execution_count": 25,
   "metadata": {},
   "outputs": [
    {
     "name": "stdout",
     "output_type": "stream",
     "text": [
      "Data type of num_int: <class 'int'>\n",
      "Data type of num_flo: <class 'float'>\n",
      "Value of num_new: 101.23\n",
      "Data type of num_new: <class 'float'>\n"
     ]
    }
   ],
   "source": [
    "# Implicit Type Conversion\n",
    "num_int=100\n",
    "num_flo=1.23\n",
    "num_new=num_int+num_flo\n",
    "print(\"Data type of num_int:\",type(num_int))\n",
    "print(\"Data type of num_flo:\",type(num_flo))\n",
    "print(\"Value of num_new:\",num_new)\n",
    "print(\"Data type of num_new:\",type(num_new))"
   ]
  },
  {
   "cell_type": "code",
   "execution_count": 27,
   "metadata": {},
   "outputs": [
    {
     "name": "stdout",
     "output_type": "stream",
     "text": [
      "Data type of num_int: <class 'int'>\n",
      "Data type of num_str before Type Casting: <class 'str'>\n",
      "Data type of num_str after Type Casting: <class 'int'>\n",
      "Sum of num_int and num_str: 579\n",
      "Data type of the sum: <class 'int'>\n"
     ]
    }
   ],
   "source": [
    "# Explicit Type Conversion\n",
    "num_int=123\n",
    "num_str=\"456\"\n",
    "print(\"Data type of num_int:\",type(num_int))\n",
    "print(\"Data type of num_str before Type Casting:\",type(num_str))\n",
    "num_str=int(num_str) # Conversion of string to int\n",
    "print(\"Data type of num_str after Type Casting:\",type(num_str))\n",
    "num_sum=num_int+num_str\n",
    "print(\"Sum of num_int and num_str:\",num_sum)\n",
    "print(\"Data type of the sum:\",type(num_sum))"
   ]
  },
  {
   "cell_type": "code",
   "execution_count": 33,
   "metadata": {},
   "outputs": [
    {
     "name": "stdout",
     "output_type": "stream",
     "text": [
      "x = 10 and y = 20\n",
      "x > y is False\n",
      "x < y is True\n",
      "x == y is False\n",
      "x != y is True\n",
      "x >= y is False\n",
      "x <= y is True\n"
     ]
    }
   ],
   "source": [
    "x = 10\n",
    "y = 20\n",
    "print(\"x = {} and y = {}\".format(x,y))\n",
    "\n",
    "# Comparison Operators\n",
    "print('x > y is',x>y)\n",
    "print('x < y is',x<y)\n",
    "print('x == y is', x==y)\n",
    "print('x != y is',x!=y)\n",
    "print('x >= y is',x>=y)\n",
    "print('x <= y is', x<=y)"
   ]
  },
  {
   "cell_type": "code",
   "execution_count": 34,
   "metadata": {},
   "outputs": [
    {
     "name": "stdout",
     "output_type": "stream",
     "text": [
      "x = True and y = False\n",
      "x and y is False\n",
      "x or y is True\n",
      "not x is False\n",
      "not y is True\n"
     ]
    }
   ],
   "source": [
    "x = True\n",
    "y = False\n",
    "print(\"x = {} and y = {}\".format(x,y))\n",
    "\n",
    "# Logical Operators\n",
    "print('x and y is',x and y)\n",
    "print('x or y is',x or y)\n",
    "print('not x is',not x)\n",
    "print('not y is',not y)"
   ]
  },
  {
   "cell_type": "code",
   "execution_count": 38,
   "metadata": {},
   "outputs": [
    {
     "name": "stdout",
     "output_type": "stream",
     "text": [
      "False\n",
      "False\n",
      "True\n"
     ]
    }
   ],
   "source": [
    "x1 = 5\n",
    "y1 = 5\n",
    "x2 = 'Hello'\n",
    "y2 = 'Hello'\n",
    "x3 = [1,2,3]\n",
    "y3 = [1,2,3]\n",
    "\n",
    "# Identity Operators\n",
    "print(x1 is not y1)\n",
    "print(x2 is not y2)\n",
    "print(x3 is not y3)"
   ]
  },
  {
   "cell_type": "code",
   "execution_count": 41,
   "metadata": {},
   "outputs": [
    {
     "name": "stdout",
     "output_type": "stream",
     "text": [
      "x = Hello world and y = {1: 'a', 2: 'b'}\n",
      "True\n",
      "True\n",
      "True\n",
      "False\n",
      "False\n"
     ]
    }
   ],
   "source": [
    "x = 'Hello world'\n",
    "y = {1:'a',2:'b'}\n",
    "print(\"x = {} and y = {}\".format(x,y))\n",
    "\n",
    "# Membership Operators\n",
    "print('H' in x)\n",
    "print('hello' not in x)\n",
    "print(1 in y)\n",
    "print(3 in y)\n",
    "print('a' in y)"
   ]
  },
  {
   "cell_type": "code",
   "execution_count": 43,
   "metadata": {},
   "outputs": [
    {
     "name": "stdout",
     "output_type": "stream",
     "text": [
      "x = 10 and y = 4\n",
      "0\n",
      "14\n",
      "-11\n",
      "14\n",
      "0\n",
      "160\n"
     ]
    }
   ],
   "source": [
    "x = 10 # 0000 1010\n",
    "y = 4 # 0000 0100\n",
    "print(\"x = {} and y = {}\".format(x,y))\n",
    "\n",
    "# Bitwise Operators\n",
    "print(x & y) # Bitwise AND\n",
    "print(x | y) # Bitwise OR\n",
    "print(~x) # Bitwise NOT. ~x = 1111 0101 = -0000 1010 + 1 = -0000 1011 = -11\n",
    "print(x ^ y) # Bitwise XOR\n",
    "print(x >> y) # Bitwise right shift\n",
    "print(x << y) # Bitwise left shift"
   ]
  },
  {
   "cell_type": "code",
   "execution_count": null,
   "metadata": {},
   "outputs": [],
   "source": [
    "# While loop\n",
    "i = 1\n",
    "while i <= 8:\n",
    "    \n",
    "    \n",
    "    \n",
    "    "
   ]
  },
  {
   "cell_type": "code",
   "execution_count": null,
   "metadata": {},
   "outputs": [],
   "source": []
  }
 ],
 "metadata": {
  "kernelspec": {
   "display_name": "Python 3",
   "language": "python",
   "name": "python3"
  },
  "language_info": {
   "codemirror_mode": {
    "name": "ipython",
    "version": 3
   },
   "file_extension": ".py",
   "mimetype": "text/x-python",
   "name": "python",
   "nbconvert_exporter": "python",
   "pygments_lexer": "ipython3",
   "version": "3.7.3"
  }
 },
 "nbformat": 4,
 "nbformat_minor": 2
}
